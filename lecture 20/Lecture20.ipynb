{
  "cells": [
    {
      "cell_type": "code",
      "source": [
        "from google.colab import output\n",
        "output.enable_custom_widget_manager()"
      ],
      "metadata": {
        "id": "8OukcY8LDnFB"
      },
      "id": "8OukcY8LDnFB",
      "execution_count": 29,
      "outputs": []
    },
    {
      "cell_type": "markdown",
      "id": "451e0aeb",
      "metadata": {
        "id": "451e0aeb"
      },
      "source": [
        "# Expert Notebook: Generalist Agents in Open-Ended Worlds\n",
        "\n",
        "### A Deep Dive Inspired by Jim Fan's CS25 Lecture\n",
        "\n",
        "**Objective:** This notebook provides a PhD-level deconstruction of the concepts presented in the lecture on building generalist AI agents. We will move beyond a surface-level summary to explore the core architectural paradigms of **MineCLIP**, **Voyager**, and **Eureka**. Through from-scratch code implementations, recreations of key lecture examples, mathematical deep dives, and interactive visualizations, our goal is to build an expert-level intuition for the challenges and breakthroughs in the quest for open-ended, embodied AI."
      ]
    },
    {
      "cell_type": "markdown",
      "id": "ba08d0bb",
      "metadata": {
        "id": "ba08d0bb"
      },
      "source": [
        "## Section 1: The Foundational Analogy - The Kitten Carousel\n",
        "\n",
        "The lecture begins with the powerful 1963 Held and Hein experiment, which serves as a central metaphor for the entire field of embodied AI. Understanding this analogy is crucial for grasping the limitations of current models and the motivation for building generalist agents.\n",
        "\n",
        "- **The Passive Kitten (Today's LLMs, e.g., ChatGPT):** This kitten was moved through the world but could not control its own motion. It received all the same visual stimuli as the other kitten but failed to develop a healthy visual-motor loop. This is analogous to today's large language models, which passively observe a massive, static dataset (the internet). They have no agency, cannot perform actions to test hypotheses, and receive no direct feedback from a physical world. Their knowledge, while vast, is abstract, ungrounded, and can lead to \"hallucinations\" that violate physical common sense.\n",
        "\n",
        "- **The Active Kitten (The Generalist Agent):** This kitten actively controlled its own movement. By initiating actions and observing the resulting sensory changes, it formed a robust understanding of the world. This is the goal for generalist agents: to learn within a closed **perception-action loop**, continuously interacting with an environment. This active embodiment is what grounds abstract knowledge in physical reality.\n",
        "\n",
        "**The Goal:** The future of AI is not about choosing one kitten over the other. It's about building an **Active Kitten** on top of the knowledge foundation of a **Passive Kitten**. The agent's ability to act and experiment in the world is a crucial layer built upon the vast knowledge pre-trained from internet-scale data."
      ]
    },
    {
      "cell_type": "code",
      "execution_count": 7,
      "id": "b5088322",
      "metadata": {
        "colab": {
          "base_uri": "https://localhost:8080/",
          "height": 617
        },
        "id": "b5088322",
        "outputId": "ab17ee4f-8aa0-4678-cfcb-2e4298f9a060"
      },
      "outputs": [
        {
          "output_type": "display_data",
          "data": {
            "text/html": [
              "<html>\n",
              "<head><meta charset=\"utf-8\" /></head>\n",
              "<body>\n",
              "    <div>            <script src=\"https://cdnjs.cloudflare.com/ajax/libs/mathjax/2.7.5/MathJax.js?config=TeX-AMS-MML_SVG\"></script><script type=\"text/javascript\">if (window.MathJax && window.MathJax.Hub && window.MathJax.Hub.Config) {window.MathJax.Hub.Config({SVG: {font: \"STIX-Web\"}});}</script>                <script type=\"text/javascript\">window.PlotlyConfig = {MathJaxConfig: 'local'};</script>\n",
              "        <script charset=\"utf-8\" src=\"https://cdn.plot.ly/plotly-2.35.2.min.js\"></script>                <div id=\"26006f2d-5d6a-43b4-a326-9bc6c77c0a50\" class=\"plotly-graph-div\" style=\"height:600px; width:100%;\"></div>            <script type=\"text/javascript\">                                    window.PLOTLYENV=window.PLOTLYENV || {};                                    if (document.getElementById(\"26006f2d-5d6a-43b4-a326-9bc6c77c0a50\")) {                    Plotly.newPlot(                        \"26006f2d-5d6a-43b4-a326-9bc6c77c0a50\",                        [{\"marker\":{\"color\":[\"#FF6F61\",\"#6B5B95\",\"#88B04B\",\"#F7CAC9\"],\"line\":{\"color\":\"black\",\"width\":2},\"size\":[60,60,60,60]},\"mode\":\"markers+text\",\"text\":[\"\\u003cb\\u003ePassive Kitten\\u003c\\u002fb\\u003e\\u003cbr\\u003e(e.g., GPT-4)\",\"\\u003cb\\u003eStatic World\\u003c\\u002fb\\u003e\\u003cbr\\u003e(Internet Text\\u002fImages)\",\"\\u003cb\\u003eActive Kitten\\u003c\\u002fb\\u003e\\u003cbr\\u003e(Generalist Agent)\",\"\\u003cb\\u003eInteractive World\\u003c\\u002fb\\u003e\\u003cbr\\u003e(e.g., Minecraft, Robotics Sim)\"],\"textfont\":{\"color\":\"black\",\"size\":12},\"textposition\":\"middle center\",\"x\":[0.2,0.8,0.5,0.5],\"y\":[0.8,0.8,0.2,0.6],\"type\":\"scatter\"}],                        {\"template\":{\"data\":{\"histogram2dcontour\":[{\"type\":\"histogram2dcontour\",\"colorbar\":{\"outlinewidth\":0,\"ticks\":\"\"},\"colorscale\":[[0.0,\"#0d0887\"],[0.1111111111111111,\"#46039f\"],[0.2222222222222222,\"#7201a8\"],[0.3333333333333333,\"#9c179e\"],[0.4444444444444444,\"#bd3786\"],[0.5555555555555556,\"#d8576b\"],[0.6666666666666666,\"#ed7953\"],[0.7777777777777778,\"#fb9f3a\"],[0.8888888888888888,\"#fdca26\"],[1.0,\"#f0f921\"]]}],\"choropleth\":[{\"type\":\"choropleth\",\"colorbar\":{\"outlinewidth\":0,\"ticks\":\"\"}}],\"histogram2d\":[{\"type\":\"histogram2d\",\"colorbar\":{\"outlinewidth\":0,\"ticks\":\"\"},\"colorscale\":[[0.0,\"#0d0887\"],[0.1111111111111111,\"#46039f\"],[0.2222222222222222,\"#7201a8\"],[0.3333333333333333,\"#9c179e\"],[0.4444444444444444,\"#bd3786\"],[0.5555555555555556,\"#d8576b\"],[0.6666666666666666,\"#ed7953\"],[0.7777777777777778,\"#fb9f3a\"],[0.8888888888888888,\"#fdca26\"],[1.0,\"#f0f921\"]]}],\"heatmap\":[{\"type\":\"heatmap\",\"colorbar\":{\"outlinewidth\":0,\"ticks\":\"\"},\"colorscale\":[[0.0,\"#0d0887\"],[0.1111111111111111,\"#46039f\"],[0.2222222222222222,\"#7201a8\"],[0.3333333333333333,\"#9c179e\"],[0.4444444444444444,\"#bd3786\"],[0.5555555555555556,\"#d8576b\"],[0.6666666666666666,\"#ed7953\"],[0.7777777777777778,\"#fb9f3a\"],[0.8888888888888888,\"#fdca26\"],[1.0,\"#f0f921\"]]}],\"heatmapgl\":[{\"type\":\"heatmapgl\",\"colorbar\":{\"outlinewidth\":0,\"ticks\":\"\"},\"colorscale\":[[0.0,\"#0d0887\"],[0.1111111111111111,\"#46039f\"],[0.2222222222222222,\"#7201a8\"],[0.3333333333333333,\"#9c179e\"],[0.4444444444444444,\"#bd3786\"],[0.5555555555555556,\"#d8576b\"],[0.6666666666666666,\"#ed7953\"],[0.7777777777777778,\"#fb9f3a\"],[0.8888888888888888,\"#fdca26\"],[1.0,\"#f0f921\"]]}],\"contourcarpet\":[{\"type\":\"contourcarpet\",\"colorbar\":{\"outlinewidth\":0,\"ticks\":\"\"}}],\"contour\":[{\"type\":\"contour\",\"colorbar\":{\"outlinewidth\":0,\"ticks\":\"\"},\"colorscale\":[[0.0,\"#0d0887\"],[0.1111111111111111,\"#46039f\"],[0.2222222222222222,\"#7201a8\"],[0.3333333333333333,\"#9c179e\"],[0.4444444444444444,\"#bd3786\"],[0.5555555555555556,\"#d8576b\"],[0.6666666666666666,\"#ed7953\"],[0.7777777777777778,\"#fb9f3a\"],[0.8888888888888888,\"#fdca26\"],[1.0,\"#f0f921\"]]}],\"surface\":[{\"type\":\"surface\",\"colorbar\":{\"outlinewidth\":0,\"ticks\":\"\"},\"colorscale\":[[0.0,\"#0d0887\"],[0.1111111111111111,\"#46039f\"],[0.2222222222222222,\"#7201a8\"],[0.3333333333333333,\"#9c179e\"],[0.4444444444444444,\"#bd3786\"],[0.5555555555555556,\"#d8576b\"],[0.6666666666666666,\"#ed7953\"],[0.7777777777777778,\"#fb9f3a\"],[0.8888888888888888,\"#fdca26\"],[1.0,\"#f0f921\"]]}],\"mesh3d\":[{\"type\":\"mesh3d\",\"colorbar\":{\"outlinewidth\":0,\"ticks\":\"\"}}],\"scatter\":[{\"fillpattern\":{\"fillmode\":\"overlay\",\"size\":10,\"solidity\":0.2},\"type\":\"scatter\"}],\"parcoords\":[{\"type\":\"parcoords\",\"line\":{\"colorbar\":{\"outlinewidth\":0,\"ticks\":\"\"}}}],\"scatterpolargl\":[{\"type\":\"scatterpolargl\",\"marker\":{\"colorbar\":{\"outlinewidth\":0,\"ticks\":\"\"}}}],\"bar\":[{\"error_x\":{\"color\":\"#2a3f5f\"},\"error_y\":{\"color\":\"#2a3f5f\"},\"marker\":{\"line\":{\"color\":\"#E5ECF6\",\"width\":0.5},\"pattern\":{\"fillmode\":\"overlay\",\"size\":10,\"solidity\":0.2}},\"type\":\"bar\"}],\"scattergeo\":[{\"type\":\"scattergeo\",\"marker\":{\"colorbar\":{\"outlinewidth\":0,\"ticks\":\"\"}}}],\"scatterpolar\":[{\"type\":\"scatterpolar\",\"marker\":{\"colorbar\":{\"outlinewidth\":0,\"ticks\":\"\"}}}],\"histogram\":[{\"marker\":{\"pattern\":{\"fillmode\":\"overlay\",\"size\":10,\"solidity\":0.2}},\"type\":\"histogram\"}],\"scattergl\":[{\"type\":\"scattergl\",\"marker\":{\"colorbar\":{\"outlinewidth\":0,\"ticks\":\"\"}}}],\"scatter3d\":[{\"type\":\"scatter3d\",\"line\":{\"colorbar\":{\"outlinewidth\":0,\"ticks\":\"\"}},\"marker\":{\"colorbar\":{\"outlinewidth\":0,\"ticks\":\"\"}}}],\"scattermapbox\":[{\"type\":\"scattermapbox\",\"marker\":{\"colorbar\":{\"outlinewidth\":0,\"ticks\":\"\"}}}],\"scatterternary\":[{\"type\":\"scatterternary\",\"marker\":{\"colorbar\":{\"outlinewidth\":0,\"ticks\":\"\"}}}],\"scattercarpet\":[{\"type\":\"scattercarpet\",\"marker\":{\"colorbar\":{\"outlinewidth\":0,\"ticks\":\"\"}}}],\"carpet\":[{\"aaxis\":{\"endlinecolor\":\"#2a3f5f\",\"gridcolor\":\"white\",\"linecolor\":\"white\",\"minorgridcolor\":\"white\",\"startlinecolor\":\"#2a3f5f\"},\"baxis\":{\"endlinecolor\":\"#2a3f5f\",\"gridcolor\":\"white\",\"linecolor\":\"white\",\"minorgridcolor\":\"white\",\"startlinecolor\":\"#2a3f5f\"},\"type\":\"carpet\"}],\"table\":[{\"cells\":{\"fill\":{\"color\":\"#EBF0F8\"},\"line\":{\"color\":\"white\"}},\"header\":{\"fill\":{\"color\":\"#C8D4E3\"},\"line\":{\"color\":\"white\"}},\"type\":\"table\"}],\"barpolar\":[{\"marker\":{\"line\":{\"color\":\"#E5ECF6\",\"width\":0.5},\"pattern\":{\"fillmode\":\"overlay\",\"size\":10,\"solidity\":0.2}},\"type\":\"barpolar\"}],\"pie\":[{\"automargin\":true,\"type\":\"pie\"}]},\"layout\":{\"autotypenumbers\":\"strict\",\"colorway\":[\"#636efa\",\"#EF553B\",\"#00cc96\",\"#ab63fa\",\"#FFA15A\",\"#19d3f3\",\"#FF6692\",\"#B6E880\",\"#FF97FF\",\"#FECB52\"],\"font\":{\"color\":\"#2a3f5f\"},\"hovermode\":\"closest\",\"hoverlabel\":{\"align\":\"left\"},\"paper_bgcolor\":\"white\",\"plot_bgcolor\":\"#E5ECF6\",\"polar\":{\"bgcolor\":\"#E5ECF6\",\"angularaxis\":{\"gridcolor\":\"white\",\"linecolor\":\"white\",\"ticks\":\"\"},\"radialaxis\":{\"gridcolor\":\"white\",\"linecolor\":\"white\",\"ticks\":\"\"}},\"ternary\":{\"bgcolor\":\"#E5ECF6\",\"aaxis\":{\"gridcolor\":\"white\",\"linecolor\":\"white\",\"ticks\":\"\"},\"baxis\":{\"gridcolor\":\"white\",\"linecolor\":\"white\",\"ticks\":\"\"},\"caxis\":{\"gridcolor\":\"white\",\"linecolor\":\"white\",\"ticks\":\"\"}},\"coloraxis\":{\"colorbar\":{\"outlinewidth\":0,\"ticks\":\"\"}},\"colorscale\":{\"sequential\":[[0.0,\"#0d0887\"],[0.1111111111111111,\"#46039f\"],[0.2222222222222222,\"#7201a8\"],[0.3333333333333333,\"#9c179e\"],[0.4444444444444444,\"#bd3786\"],[0.5555555555555556,\"#d8576b\"],[0.6666666666666666,\"#ed7953\"],[0.7777777777777778,\"#fb9f3a\"],[0.8888888888888888,\"#fdca26\"],[1.0,\"#f0f921\"]],\"sequentialminus\":[[0.0,\"#0d0887\"],[0.1111111111111111,\"#46039f\"],[0.2222222222222222,\"#7201a8\"],[0.3333333333333333,\"#9c179e\"],[0.4444444444444444,\"#bd3786\"],[0.5555555555555556,\"#d8576b\"],[0.6666666666666666,\"#ed7953\"],[0.7777777777777778,\"#fb9f3a\"],[0.8888888888888888,\"#fdca26\"],[1.0,\"#f0f921\"]],\"diverging\":[[0,\"#8e0152\"],[0.1,\"#c51b7d\"],[0.2,\"#de77ae\"],[0.3,\"#f1b6da\"],[0.4,\"#fde0ef\"],[0.5,\"#f7f7f7\"],[0.6,\"#e6f5d0\"],[0.7,\"#b8e186\"],[0.8,\"#7fbc41\"],[0.9,\"#4d9221\"],[1,\"#276419\"]]},\"xaxis\":{\"gridcolor\":\"white\",\"linecolor\":\"white\",\"ticks\":\"\",\"title\":{\"standoff\":15},\"zerolinecolor\":\"white\",\"automargin\":true,\"zerolinewidth\":2},\"yaxis\":{\"gridcolor\":\"white\",\"linecolor\":\"white\",\"ticks\":\"\",\"title\":{\"standoff\":15},\"zerolinecolor\":\"white\",\"automargin\":true,\"zerolinewidth\":2},\"scene\":{\"xaxis\":{\"backgroundcolor\":\"#E5ECF6\",\"gridcolor\":\"white\",\"linecolor\":\"white\",\"showbackground\":true,\"ticks\":\"\",\"zerolinecolor\":\"white\",\"gridwidth\":2},\"yaxis\":{\"backgroundcolor\":\"#E5ECF6\",\"gridcolor\":\"white\",\"linecolor\":\"white\",\"showbackground\":true,\"ticks\":\"\",\"zerolinecolor\":\"white\",\"gridwidth\":2},\"zaxis\":{\"backgroundcolor\":\"#E5ECF6\",\"gridcolor\":\"white\",\"linecolor\":\"white\",\"showbackground\":true,\"ticks\":\"\",\"zerolinecolor\":\"white\",\"gridwidth\":2}},\"shapedefaults\":{\"line\":{\"color\":\"#2a3f5f\"}},\"annotationdefaults\":{\"arrowcolor\":\"#2a3f5f\",\"arrowhead\":0,\"arrowwidth\":1},\"geo\":{\"bgcolor\":\"white\",\"landcolor\":\"#E5ECF6\",\"subunitcolor\":\"white\",\"showland\":true,\"showlakes\":true,\"lakecolor\":\"white\"},\"title\":{\"x\":0.05},\"mapbox\":{\"style\":\"light\"}}},\"annotations\":[{\"arrowcolor\":\"#FF6F61\",\"arrowhead\":2,\"arrowsize\":1.5,\"arrowwidth\":2,\"ax\":0.25,\"axref\":\"x\",\"ay\":0.8,\"ayref\":\"y\",\"showarrow\":true,\"text\":\"\\u003ci\\u003ePassively Observes\\u003c\\u002fi\\u003e\",\"x\":0.75,\"xref\":\"x\",\"y\":0.8,\"yref\":\"y\"},{\"arrowcolor\":\"#88B04B\",\"arrowhead\":2,\"arrowsize\":1.5,\"arrowwidth\":2,\"ax\":0.5,\"axref\":\"x\",\"ay\":0.55,\"ayref\":\"y\",\"showarrow\":true,\"text\":\"\\u003cb\\u003eObserves (Perception)\\u003c\\u002fb\\u003e\",\"x\":0.5,\"xref\":\"x\",\"y\":0.25,\"yref\":\"y\"},{\"arrowcolor\":\"#88B04B\",\"arrowhead\":2,\"arrowsize\":1.5,\"arrowwidth\":2,\"ax\":0.5,\"axref\":\"x\",\"ay\":0.25,\"ayref\":\"y\",\"showarrow\":true,\"text\":\"\\u003cb\\u003eActs On (Action)\\u003c\\u002fb\\u003e\",\"x\":0.5,\"xref\":\"x\",\"y\":0.55,\"yref\":\"y\"}],\"xaxis\":{\"visible\":false},\"yaxis\":{\"visible\":false},\"title\":{\"text\":\"The Kitten Carousel Analogy: Passive vs. Active Learning\"},\"showlegend\":false,\"height\":600},                        {\"responsive\": true}                    ).then(function(){\n",
              "                            \n",
              "var gd = document.getElementById('26006f2d-5d6a-43b4-a326-9bc6c77c0a50');\n",
              "var x = new MutationObserver(function (mutations, observer) {{\n",
              "        var display = window.getComputedStyle(gd).display;\n",
              "        if (!display || display === 'none') {{\n",
              "            console.log([gd, 'removed!']);\n",
              "            Plotly.purge(gd);\n",
              "            observer.disconnect();\n",
              "        }}\n",
              "}});\n",
              "\n",
              "// Listen for the removal of the full notebook cells\n",
              "var notebookContainer = gd.closest('#notebook-container');\n",
              "if (notebookContainer) {{\n",
              "    x.observe(notebookContainer, {childList: true});\n",
              "}}\n",
              "\n",
              "// Listen for the clearing of the current output cell\n",
              "var outputEl = gd.closest('.output');\n",
              "if (outputEl) {{\n",
              "    x.observe(outputEl, {childList: true});\n",
              "}}\n",
              "\n",
              "                        })                };                            </script>        </div>\n",
              "</body>\n",
              "</html>"
            ]
          },
          "metadata": {}
        }
      ],
      "source": [
        "import plotly.graph_objects as go\n",
        "\n",
        "fig = go.Figure()\n",
        "\n",
        "# Nodes\n",
        "nodes_x = [0.2, 0.8, 0.5, 0.5]\n",
        "nodes_y = [0.8, 0.8, 0.2, 0.6]\n",
        "node_text = ['<b>Passive Kitten</b><br>(e.g., GPT-4)', '<b>Static World</b><br>(Internet Text/Images)', '<b>Active Kitten</b><br>(Generalist Agent)', '<b>Interactive World</b><br>(e.g., Minecraft, Robotics Sim)']\n",
        "node_colors = ['#FF6F61', '#6B5B95', '#88B04B', '#F7CAC9']\n",
        "\n",
        "fig.add_trace(go.Scatter(x=nodes_x, y=nodes_y, mode='markers+text', text=node_text,\n",
        "                           marker=dict(size=[60, 60, 60, 60], color=node_colors, line=dict(width=2, color='black')),\n",
        "                           textposition='middle center', textfont=dict(size=12, color='black')))\n",
        "\n",
        "# Edges - Passive Loop (One-way Observation)\n",
        "fig.add_annotation(x=0.75, y=0.8, ax=0.25, ay=0.8, xref='x', yref='y', axref='x', ayref='y',\n",
        "                   showarrow=True, arrowhead=2, arrowsize=1.5, arrowwidth=2, arrowcolor='#FF6F61', text=\"<i>Passively Observes</i>\")\n",
        "\n",
        "# Edges - Active Loop (Closed Perception-Action Loop)\n",
        "fig.add_annotation(x=0.5, y=0.25, ax=0.5, ay=0.55, xref='x', yref='y', axref='x', ayref='y',\n",
        "                   showarrow=True, arrowhead=2, arrowsize=1.5, arrowwidth=2, arrowcolor='#88B04B', text=\"<b>Observes (Perception)</b>\")\n",
        "fig.add_annotation(x=0.5, y=0.55, ax=0.5, ay=0.25, xref='x', yref='y', axref='x', ayref='y',\n",
        "                   showarrow=True, arrowhead=2, arrowsize=1.5, arrowwidth=2, arrowcolor='#88B04B', text=\"<b>Acts On (Action)</b>\")\n",
        "\n",
        "fig.update_layout(title='The Kitten Carousel Analogy: Passive vs. Active Learning',\n",
        "                  showlegend=False, xaxis=dict(visible=False), yaxis=dict(visible=False), height=600)\n",
        "fig.show()"
      ]
    },
    {
      "cell_type": "markdown",
      "id": "5b6fe7f2",
      "metadata": {
        "id": "5b6fe7f2"
      },
      "source": [
        "### 1.1. The Limitations of Specialized Agents\n",
        "\n",
        "The lecture highlights that even superhuman systems like AlphaGo, OpenAI Five (Dota 2), and AlphaStar (StarCraft) are fundamentally limited. They are **specialists**, not **generalists**.\n",
        "\n",
        "- **Single Objective:** Their goal is simple and singular: win the game.\n",
        "- **Closed World:** The rules and environment are fixed and known.\n",
        "- **No Generalization:** The AlphaGo model cannot play StarCraft, let alone a creative game like Minecraft. Its intelligence is brittle and task-specific.\n",
        "\n",
        "A **Generalist Agent** must overcome these limitations. It should:\n",
        "1.  **Pursue Open-Ended Objectives:** Understand complex, language-based instructions.\n",
        "2.  **Possess Broad World Knowledge:** Go beyond the specifics of a single task.\n",
        "3.  **Be Massively Multitask:** Perform a wide variety of skills, as diverse as human language itself."
      ]
    },
    {
      "cell_type": "markdown",
      "id": "4ff50bfd",
      "metadata": {
        "id": "4ff50bfd"
      },
      "source": [
        "## Section 2: Case Study 1 - MineCLIP: Learning Rewards from Observation\n",
        "\n",
        "MineCLIP is a foundational step that addresses the data problem. It shows how to extract a useful signal (a reward function) from passive, observational data (YouTube videos).\n",
        "\n",
        "### 2.1. The Data Trove: Tapping into Human Creativity\n",
        "\n",
        "The project, **MineDojo**, first creates the necessary ingredients:\n",
        "- **The Environment:** A highly controllable Minecraft simulator with over 3,000 programmatic and creative tasks.\n",
        "- **The Knowledge Base:** A massive dataset scraped from the internet, reflecting the collective intelligence of the Minecraft community.\n",
        "    - **700,000+ YouTube Videos:** With 2 billion words of transcribed narration. This provides (video, text) pairs.\n",
        "    - **7,000 Wiki Pages:** Multimodal documents with images, tables, and text explaining game mechanics.\n",
        "    - **300,000+ Reddit Posts:** A Q&A forum showing problem-solving and community interaction.\n",
        "\n",
        "### 2.2. Technical Deep Dive: Contrastive Video-Language Learning\n",
        "\n",
        "MineCLIP's core mechanism is a **contrastive learning** model, similar to OpenAI's CLIP, but adapted for video. It learns to associate short video clips with their corresponding text descriptions from the YouTube transcripts.\n",
        "\n",
        "**Mathematical Foundation: The InfoNCE Loss**\n",
        "\n",
        "The goal is to learn embedding functions for video, $f_v$, and text, $f_t$, such that for a matched pair $(v_i, t_i)$, their embeddings are close in a shared vector space, while embeddings for mismatched pairs $(v_i, t_j)$ where $i \\neq j$ are far apart.\n",
        "\n",
        "1.  **Embedding:** Given a batch of $N$ (video, text) pairs, we get two sets of embeddings: $V = \\{f_v(v_1), ..., f_v(v_N)\\}$ and $T = \\{f_t(t_1), ..., f_t(t_N)\\}$.\n",
        "2.  **Similarity Matrix:** We compute the cosine similarity between every video embedding and every text embedding, creating an $N \\times N$ matrix $S$, where $S_{i,j} = \\frac{f_v(v_i) \\cdot f_t(t_j)}{\\|f_v(v_i)\\| \\|f_t(t_j)\\|}$.\n",
        "3.  **The Loss Function:** The probability that text $t_j$ is the correct description for video $v_i$ is modeled using a softmax over the similarity scores, scaled by a temperature parameter $\\tau$:\n",
        "    $$ p(j|i) = \\frac{\\exp(S_{i,j} / \\tau)}{\\sum_{k=1}^{N} \\exp(S_{i,k} / \\tau)} $$\n",
        "    The InfoNCE (Noise Contrastive Estimation) loss is the cross-entropy loss of predicting the correct pairing. For a single video $v_i$, the loss is:\n",
        "    $$ \\mathcal{L}_{v_i} = -\\log p(i|i) = -\\log \\frac{\\exp(S_{i,i} / \\tau)}{\\sum_{k=1}^{N} \\exp(S_{i,k} / \\tau)} $$\n",
        "    The total loss is calculated symmetrically for both video-to-text and text-to-video and averaged over the batch.\n",
        "\n",
        "**Expert Insight:** What does MineCLIP become after this training? It becomes a **universal, language-prompted reward function**. You can give it *any* task description in English (e.g., \"shear a sheep\") and a video of an agent's behavior. MineCLIP will output a high score if the behavior in the video matches the description, and a low score otherwise. This is effectively **Reinforcement Learning from Human Feedback (RLHF)**, where the \"feedback\" is the alignment score from a pre-trained model instead of a live human click."
      ]
    },
    {
      "cell_type": "code",
      "execution_count": 32,
      "id": "9a5de586",
      "metadata": {
        "colab": {
          "base_uri": "https://localhost:8080/",
          "height": 54,
          "referenced_widgets": [
            "f584d4af4d994557845423832c9899c3",
            "b97e96912778494daea9a39e57fcd285",
            "f79fc8a9b3ad4db596301fd064a9393c",
            "234cf1b26916455fb12cfbace1d43734",
            "4e5c4ee45e7c43c1b6a67d0e263f9e0e",
            "0554e9b34fa34661a95fa0ee71f707f0",
            "b0251986c1d94f17abaf033d49c51852",
            "b4080a96effe4964979e9f07013ad943",
            "ba71140c4e2e4a8692ea0b8a1d270a49",
            "470a9be2d5114b2bae2800d9a0bb4578",
            "d77b16ddd76b4ac684e1b379d513afb6",
            "31bfda1ea93c4e4396a6a611b3108dcf",
            "00567489214c44ac8c8f80757a171d61",
            "f8556fd4da2846df8f06bc9c580642ca"
          ]
        },
        "id": "9a5de586",
        "outputId": "102795ab-1512-4971-f64d-ed186294bc4a"
      },
      "outputs": [
        {
          "output_type": "stream",
          "name": "stdout",
          "text": [
            "Instructions: Training pushes matching Video/Text pairs (connected by dotted lines) closer. A perfect model would have a huge bar for 'T0' and tiny bars for all others. Adjust 'Temp' and 'Noise' to see their effects.\n"
          ]
        },
        {
          "output_type": "display_data",
          "data": {
            "text/plain": [
              "VBox(children=(VBox(children=(IntSlider(value=8, description='Num Pairs', max=16, min=4, step=2), FloatSlider(…"
            ],
            "application/vnd.jupyter.widget-view+json": {
              "version_major": 2,
              "version_minor": 0,
              "model_id": "f584d4af4d994557845423832c9899c3"
            }
          },
          "metadata": {
            "application/vnd.jupyter.widget-view+json": {
              "colab": {
                "custom_widget_manager": {
                  "url": "https://ssl.gstatic.com/colaboratory-static/widgets/colab-cdn-widget-manager/2b70e893a8ba7c0f/manager.min.js"
                }
              }
            }
          }
        }
      ],
      "source": [
        "# Code Implementation: Interactive Contrastive Loss Visualization (Corrected)\n",
        "\n",
        "import torch\n",
        "import torch.nn.functional as F\n",
        "import plotly.graph_objects as go\n",
        "from plotly.subplots import make_subplots\n",
        "import ipywidgets as widgets\n",
        "from IPython.display import display\n",
        "import plotly.io as pio\n",
        "\n",
        "# This helps ensure Plotly displays correctly in most notebook environments.\n",
        "pio.renderers.default = \"notebook\"\n",
        "\n",
        "def contrastive_loss(v_embeds, t_embeds, temperature):\n",
        "    v_embeds = F.normalize(v_embeds, p=2, dim=-1)\n",
        "    t_embeds = F.normalize(t_embeds, p=2, dim=-1)\n",
        "    similarity_matrix = v_embeds @ t_embeds.T\n",
        "    logits = similarity_matrix / temperature\n",
        "    labels = torch.arange(len(v_embeds), device=v_embeds.device)\n",
        "    loss = F.cross_entropy(logits.detach(), labels)\n",
        "    return loss, logits\n",
        "\n",
        "# --- Interactive Visualization Setup ---\n",
        "# 1. Create the widgets that will control the visualization\n",
        "num_pairs_slider = widgets.IntSlider(min=4, max=16, step=2, value=8, description='Num Pairs')\n",
        "temp_slider = widgets.FloatSlider(min=0.01, max=1.0, step=0.01, value=0.1, description='Temp (τ)')\n",
        "noise_slider = widgets.FloatSlider(min=0.1, max=2.0, step=0.1, value=0.5, description='Noise')\n",
        "\n",
        "# 2. Create the FigureWidget. This is essential for interactive updates.\n",
        "fig_widget = go.FigureWidget(make_subplots(rows=1, cols=2,\n",
        "                                           subplot_titles=(\"Embedding Space\", \"Softmax Attention (for V0)\")))\n",
        "\n",
        "def visualize_contrastive_space(num_pairs, temperature, noise):\n",
        "    \"\"\"\n",
        "    This function generates the data and UPDATES the FigureWidget.\n",
        "    It is called whenever a slider value changes.\n",
        "    \"\"\"\n",
        "    # Generate mock embeddings as PyTorch Tensors\n",
        "    v = torch.randn(num_pairs, 2)\n",
        "    t = v + torch.randn(num_pairs, 2) * noise\n",
        "    v = F.normalize(v, p=2, dim=-1)\n",
        "    t = F.normalize(t, p=2, dim=-1)\n",
        "    loss, logits = contrastive_loss(v, t, temperature)\n",
        "\n",
        "    # Convert all PyTorch tensors to NumPy arrays or Python scalars before plotting\n",
        "    v_np = v.detach().numpy()\n",
        "    t_np = t.detach().numpy()\n",
        "    probs_v0_np = F.softmax(logits[0], dim=0).detach().numpy()\n",
        "    loss_val = loss.item()\n",
        "\n",
        "    # Use a batch_update context manager for efficient plotting updates\n",
        "    with fig_widget.batch_update():\n",
        "        # Clear all existing data and shapes from the figure to prevent drawing on top of old plots\n",
        "        fig_widget.data = []\n",
        "        fig_widget.layout.shapes = []\n",
        "\n",
        "        # Re-add all traces and shapes with the new NumPy data\n",
        "        fig_widget.add_trace(go.Scatter(x=v_np[:, 0], y=v_np[:, 1], mode='markers', name='Video', marker=dict(symbol='circle', size=12, color='#88B04B')), row=1, col=1)\n",
        "        fig_widget.add_trace(go.Scatter(x=t_np[:, 0], y=t_np[:, 1], mode='markers', name='Text', marker=dict(symbol='square', size=12, color='#FF6F61')), row=1, col=1)\n",
        "\n",
        "        for i in range(num_pairs):\n",
        "             fig_widget.add_shape(type='line', x0=v_np[i, 0], y0=v_np[i, 1], x1=t_np[i, 0], y1=t_np[i, 1],\n",
        "                                 line=dict(color='grey', width=1, dash='dot'), row=1, col=1)\n",
        "\n",
        "        fig_widget.add_trace(go.Bar(y=[f'T{i}' for i in range(num_pairs)], x=probs_v0_np, orientation='h', name='Prob(T_i | V_0)'), row=1, col=2)\n",
        "\n",
        "        # Update layout properties\n",
        "        fig_widget.layout.title = f'Contrastive Learning (Loss: {loss_val:.3f})'\n",
        "        fig_widget.layout.xaxis1.title = 'Dimension 1'\n",
        "        fig_widget.layout.yaxis1.title = 'Dimension 2'\n",
        "        fig_widget.layout.xaxis2.title = 'Probability'\n",
        "        fig_widget.layout.yaxis2.title = 'Text Candidates'\n",
        "        fig_widget.layout.yaxis2.autorange = 'reversed'\n",
        "        fig_widget.layout.yaxis1.scaleanchor = \"x1\"\n",
        "\n",
        "def on_slider_change(change):\n",
        "    # 3. Define a single callback that reads all current slider values and calls the update function\n",
        "    visualize_contrastive_space(num_pairs_slider.value, temp_slider.value, noise_slider.value)\n",
        "\n",
        "# 4. Manually link each slider's 'value' change event to our single callback function\n",
        "for slider in [num_pairs_slider, temp_slider, noise_slider]:\n",
        "    slider.observe(on_slider_change, names='value')\n",
        "\n",
        "# 5. Perform the initial render of the plot with the default slider values\n",
        "visualize_contrastive_space(num_pairs_slider.value, temp_slider.value, noise_slider.value)\n",
        "\n",
        "# 6. Display the final layout using a VBox\n",
        "controls = widgets.VBox([num_pairs_slider, temp_slider, noise_slider])\n",
        "print(\"Instructions: Training pushes matching Video/Text pairs (connected by dotted lines) closer. A perfect model would have a huge bar for 'T0' and tiny bars for all others. Adjust 'Temp' and 'Noise' to see their effects.\")\n",
        "display(widgets.VBox([controls, fig_widget]))"
      ]
    },
    {
      "cell_type": "markdown",
      "id": "c9ced1d1",
      "metadata": {
        "id": "c9ced1d1"
      },
      "source": [
        "## Section 3: Learning from Interaction - The Voyager Paradigm\n",
        "\n",
        "Voyager represents a completely different approach. It's a **zero-gradient** or **no-training** agent that leverages a powerful, pre-trained LLM (GPT-4) as its executive brain. It learns not by updating weights, but by generating code, observing the outcome, and building a library of successful programs.\n",
        "\n",
        "### 3.1. The Architecture of Voyager\n",
        "Voyager's intelligence emerges from the interaction of three core modules, all orchestrated by LLM prompts:\n",
        "1.  **Automatic Curriculum:** An LLM instance that acts as a curiosity engine. Given the agent's current state (inventory, explored areas) and existing skills, it proposes a new, challenging but achievable task. Its high-level goal is `\"discover as many unique items as possible\"`, which naturally leads to exploration and tech tree progression.\n",
        "2.  **Iterative Prompting Module:** The core execution engine. This LLM instance writes JavaScript code to accomplish the given task using the **Mineflayer API** (a crucial piece that provides high-level control functions). If the code fails (due to syntax errors, execution errors, or simply not achieving the goal), the error message or a self-critique is fed back into the prompt, and the LLM attempts to debug and refine its own code.\n",
        "3.  **Skill Library:** The agent's long-term memory. This is a **vector database** that stores successful code snippets.\n",
        "    - **Storage:** When a skill (e.g., `craft_wooden_pickaxe`) is successfully coded, the LLM first generates a natural language description of it (\"crafts a wooden pickaxe from wood planks\"). This description is converted into an embedding and stored as the *key*, with the raw code as the *value*.\n",
        "    - **Retrieval:** When faced with a new task, the agent queries the library with a natural language description of what it needs to do. The most semantically similar skills are retrieved and included in the prompt as examples, allowing the agent to reuse and compose existing skills.\n",
        "\n",
        "### 3.2. Lecture Example: The Pig and the Sword\n",
        "\n",
        "The lecture gives a brilliant example of the full loop in action. Let's trace the logic:\n",
        "1.  **State:** Agent is hungry. `Hunger: 1/20`.\n",
        "2.  **Perception (from Mineflayer):** `Nearby entities: [cat, villager, pig, wheat_seeds]`.\n",
        "3.  **Automatic Curriculum:** Proposes task: `\"Find food\"`.\n",
        "4.  **Iterative Prompting (Reasoning):** The LLM receives the task and state. It reasons:\n",
        "    - *\"Killing a cat or villager is bad.\"\n",
        "    - *\"Growing wheat from seeds takes too long.\"\n",
        "    - *\"The pig is the best source of food.\"\n",
        "    - **Refined Task:** `\"Hunt the pig for porkchops.\"`\n",
        "5.  **Skill Retrieval:** The agent queries the skill library with `\"hunt a pig\"`. Let's say it finds no direct skill. But it might find `\"fight a zombie\"` which uses a sword.\n",
        "6.  **Code Generation (Sub-goal):** It checks its inventory. It has an `iron_ingot`. It queries the skill library with `\"use iron to make a weapon\"` and retrieves the `craft_iron_sword` skill. It executes this code.\n",
        "7.  **Code Generation (Main Goal):** Now equipped with a sword, it generates a new program, `hunt_pig`, which involves approaching the pig and attacking it.\n",
        "8.  **Skill Storage:** Once the pig is killed and porkchops are collected, the new `hunt_pig` code is summarized and stored in the skill library for future use."
      ]
    },
    {
      "cell_type": "code",
      "execution_count": 14,
      "id": "3a8d474a",
      "metadata": {
        "colab": {
          "base_uri": "https://localhost:8080/",
          "height": 252,
          "referenced_widgets": [
            "3e7bb0b551ae4582a64772a4d758f878",
            "4ca527b8bc7f445fb781a60f2f586919",
            "35153aadc3544fcfbf6c63d72e344a47",
            "84ede16ee2ad4bb29532284281505329",
            "f11d8f4bff784734be36619eab964bb4",
            "e15c04d8f8e24371931c169d9fe70b2d",
            "5bb3be1689e84de2a4e404adcc37bea1",
            "bf439cf2f32641f49b22b4ea7ebf86dc"
          ]
        },
        "id": "3a8d474a",
        "outputId": "750c887f-fb20-4a0a-b356-961dc2fce019"
      },
      "outputs": [
        {
          "output_type": "stream",
          "name": "stdout",
          "text": [
            "### Voyager's Skill Memory (Vector Database) ###\n",
            "Type a task in the box. The agent retrieves the most semantically similar skills to include in its prompt.\n"
          ]
        },
        {
          "output_type": "display_data",
          "data": {
            "text/plain": [
              "VBox(children=(Text(value='make a stone tool', description='Task:', layout=Layout(width='400px')), HTML(value=…"
            ],
            "application/vnd.jupyter.widget-view+json": {
              "version_major": 2,
              "version_minor": 0,
              "model_id": "3e7bb0b551ae4582a64772a4d758f878"
            }
          },
          "metadata": {
            "application/vnd.jupyter.widget-view+json": {
              "colab": {
                "custom_widget_manager": {
                  "url": "https://ssl.gstatic.com/colaboratory-static/widgets/colab-cdn-widget-manager/2b70e893a8ba7c0f/manager.min.js"
                }
              }
            }
          }
        }
      ],
      "source": [
        "# Code Implementation: Interactive Voyager Skill Library (Corrected)\n",
        "import numpy as np\n",
        "from sklearn.feature_extraction.text import TfidfVectorizer\n",
        "from sklearn.metrics.pairwise import cosine_similarity\n",
        "import ipywidgets as widgets\n",
        "import pandas as pd\n",
        "from IPython.display import display\n",
        "\n",
        "class VoyagerSkillDB:\n",
        "    def __init__(self):\n",
        "        self.vectorizer = TfidfVectorizer()\n",
        "        self.skills = [] # {'description': str, 'code': str}\n",
        "        self.skill_embeddings = None\n",
        "\n",
        "    def _update_embeddings(self):\n",
        "        if not self.skills:\n",
        "            return\n",
        "        descriptions = [s['description'] for s in self.skills]\n",
        "        self.skill_embeddings = self.vectorizer.fit_transform(descriptions)\n",
        "\n",
        "    def add_skill(self, description, code):\n",
        "        self.skills.append({'description': description, 'code': code})\n",
        "        self._update_embeddings()\n",
        "\n",
        "    def retrieve_skills(self, query, top_k=3):\n",
        "        if self.skill_embeddings is None or not self.skills: return []\n",
        "        query_embedding = self.vectorizer.transform([query])\n",
        "        sims = cosine_similarity(query_embedding, self.skill_embeddings)[0]\n",
        "        # Ensure we don't request more items than exist\n",
        "        k = min(top_k, len(self.skills))\n",
        "        if k == 0: return []\n",
        "\n",
        "        top_indices = np.argsort(sims)[::-1][:k]\n",
        "        results = [{'description': self.skills[i]['description'], 'code': self.skills[i]['code'], 'similarity': sims[i]} for i in top_indices]\n",
        "        return results\n",
        "\n",
        "# --- Interactive Demo ---\n",
        "db = VoyagerSkillDB()\n",
        "db.add_skill(\"chop down an oak tree to get oak logs\", \"bot.equip('axe'); bot.chop('oak_tree');\")\n",
        "db.add_skill(\"craft a wooden pickaxe from wood planks\", \"bot.craft({item: 'wooden_pickaxe', ingredients: ['plank', 'plank', 'stick']});\")\n",
        "db.add_skill(\"mine for cobblestone using a pickaxe\", \"bot.equip('pickaxe'); bot.mine('stone_block');\")\n",
        "db.add_skill(\"craft a furnace from 8 cobblestone blocks\", \"bot.craft({item: 'furnace', ingredients: ['cobblestone']*8});\")\n",
        "db.add_skill(\"smelt iron ore in a furnace to get an iron ingot\", \"bot.smelt('iron_ore', 'furnace');\")\n",
        "db.add_skill(\"kill a zombie with a sword to get rotten flesh\", \"bot.equip('sword'); bot.attack('zombie');\")\n",
        "\n",
        "query_text = widgets.Text(value='make a stone tool', description='Task:', layout={'width': '400px'})\n",
        "results_html = widgets.HTML()\n",
        "\n",
        "def on_query_change(change):\n",
        "    # **THE FIX:** Check if `change` is a dict from manual call or an object from the widget\n",
        "    if isinstance(change, dict):\n",
        "        query = change['new']\n",
        "    else: # It's the widget's change object\n",
        "        query = change.new\n",
        "\n",
        "    results = db.retrieve_skills(query)\n",
        "    if results:\n",
        "        df = pd.DataFrame(results)\n",
        "        results_html.value = df.to_html(index=False, escape=False)\n",
        "    else:\n",
        "        results_html.value = \"No skills found or database is empty.\"\n",
        "\n",
        "query_text.observe(on_query_change, names='value')\n",
        "# Manually trigger the first update\n",
        "on_query_change({'new': query_text.value})\n",
        "\n",
        "print(\"### Voyager's Skill Memory (Vector Database) ###\")\n",
        "print(\"Type a task in the box. The agent retrieves the most semantically similar skills to include in its prompt.\")\n",
        "display(widgets.VBox([query_text, results_html]))"
      ]
    },
    {
      "cell_type": "markdown",
      "id": "e52310dc",
      "metadata": {
        "id": "e52310dc"
      },
      "source": [
        "## Section 4: Eureka: The Hybrid Gradient Architecture\n",
        "\n",
        "Eureka applies the core ideas of LLM-driven discovery to a more challenging domain: low-level, dexterous robotic manipulation. It introduces a powerful **hybrid gradient architecture**.\n",
        "\n",
        "**The Problem with Direct Control:** Generating low-level motor torques directly from an LLM is extremely difficult. The action space is continuous, high-dimensional, and requires high-frequency control (e.g., 30-60 Hz).\n",
        "\n",
        "**Eureka's Solution:** Decouple the problem. Use the LLM for what it's good at (high-level reasoning, code) and a traditional algorithm for what *it's* good at (low-level optimization).\n",
        "\n",
        "- **The Outer Loop (Gradient-Free, LLM-driven):** This is an **evolutionary search over reward functions**.\n",
        "  1.  **Generation:** The LLM (GPT-4) is given the simulator's Python code as context and a task description (e.g., \"spin the pen\"). It generates a population of candidate reward functions as Python code.\n",
        "  2.  **Evaluation:** Each candidate reward function is evaluated by running a full, expensive reinforcement learning training process (the inner loop). The final performance of the trained policy becomes the \"fitness score\" of the reward function.\n",
        "  3.  **Mutation:** The top-performing reward functions and their scores are fed back into the LLM's prompt. The LLM is then asked to act as a \"superhuman reward engineer\" and propose mutations or entirely new functions that might improve performance.\n",
        "\n",
        "- **The Inner Loop (Gradient-Based, RL-driven):** For each reward function generated by the outer loop, a standard RL algorithm (like PPO) trains a neural network policy from scratch. This is done in a highly parallelized simulator (like NVIDIA Isaac Sim) to make the evaluation step feasible.\n",
        "\n",
        "### 4.1. Lecture Example: Coaching the Moonwalk\n",
        "\n",
        "The power of this approach lies in its interactivity. The lecture shows an agent attempting a moonwalk and failing. A human can then provide corrective feedback *in natural language*.\n",
        "\n",
        "1.  **Initial Prompt:** `\"Make the robot do a moonwalk while standing up.\"`\n",
        "2.  **LLM Generates Reward Code v1:** The agent moves backward but doesn't have the characteristic leg swing.\n",
        "3.  **Human Feedback (Coaching):** `\"You're being very patient. Moonwalk means a robot should walk backwards while the feet swing as if they are moving forward. Correct your answer and also make it work at a speed of 0.5 m/s.\"`\n",
        "4.  **LLM Generates Reward Code v2:** The LLM incorporates this new, more detailed semantic information and constrains into its next reward function proposal, leading to a successful behavior.\n",
        "\n",
        "This demonstrates that the LLM is not just a code generator, but a **reasoning engine** that can understand and integrate corrective feedback to refine its programmatic output."
      ]
    },
    {
      "cell_type": "code",
      "execution_count": 11,
      "id": "63d9284c",
      "metadata": {
        "colab": {
          "base_uri": "https://localhost:8080/",
          "height": 632,
          "referenced_widgets": [
            "bd891cc0b0ce4ebfa3bab86372653843",
            "9c7a66c3c80c48388ba4c43199e6a263",
            "e7468bc9b8d844b19e2fe7d826ba166e",
            "38c309d9012a415e91e498f70a87a210",
            "4549dbb595ea43c38ca0289d4076d939",
            "c9cc1332cf3d4a7caf707ef2a9208d5a",
            "4f8ead2370f142a19942b3dcbe3ecf7d",
            "9f8a610570c44eacac9f764d34b1ebfa",
            "4175b0278d3d46d28fbfb8aa998ebfe3",
            "6367a3f5412e47bcb16e3ced34f562de",
            "6c2a97f90a4041c7a98df24489a2e00b",
            "f7eb54ef941d4b9e8afd2507fc01f341",
            "7f60c2eea7b9472799792863ea13ca04",
            "ad22be4f0e0f4335a7937bffb3f8291b",
            "22b20a83a3634961af35005281ac55db",
            "699eec071a924c3aa4e991269a8132a9",
            "7568616d9b6b427193f29339391ad61c"
          ]
        },
        "id": "63d9284c",
        "outputId": "fc47aeb5-d608-4e45-9e38-b0ece6816f81"
      },
      "outputs": [
        {
          "output_type": "stream",
          "name": "stdout",
          "text": [
            "### Eureka's Reward Evolution Loop ###\n",
            "Provide feedback to guide the LLM's reward design. Try typing: 'moonwalk means the feet should swing' and generating.\n"
          ]
        },
        {
          "output_type": "display_data",
          "data": {
            "text/plain": [
              "VBox(children=(Textarea(value='', description='Feedback:', layout=Layout(height='80px', width='95%')), Button(…"
            ],
            "application/vnd.jupyter.widget-view+json": {
              "version_major": 2,
              "version_minor": 0,
              "model_id": "bd891cc0b0ce4ebfa3bab86372653843"
            }
          },
          "metadata": {
            "application/vnd.jupyter.widget-view+json": {
              "colab": {
                "custom_widget_manager": {
                  "url": "https://ssl.gstatic.com/colaboratory-static/widgets/colab-cdn-widget-manager/2b70e893a8ba7c0f/manager.min.js"
                }
              }
            }
          }
        }
      ],
      "source": [
        "# Code Implementation: Interactive Eureka-style Reward Evolution (Visualization Added)\n",
        "import numpy as np\n",
        "import ipywidgets as widgets\n",
        "from IPython.display import display, HTML\n",
        "import plotly.graph_objects as go\n",
        "\n",
        "# --- The \"Inner Loop\": A mock fitness evaluation ---\n",
        "def evaluate_fitness(reward_code):\n",
        "    \"\"\"Mocks a full RL run. A 'good' reward should mention moving backward ('-state['x_pos']') and swinging ('y_vel').\"\"\"\n",
        "    fitness = 0\n",
        "    if \"-state['x_pos']\" in reward_code: fitness += 50\n",
        "    if \"abs(state['y_vel'])\" in reward_code: fitness += 30\n",
        "    if \"state['x_vel']\" in reward_code: fitness += 20 # Speed term\n",
        "    fitness += np.random.randint(-5, 5) # Add some noise\n",
        "    return fitness\n",
        "\n",
        "# --- The \"Outer Loop\": The Mock LLM ---\n",
        "class MockEurekaLLM:\n",
        "    def __init__(self):\n",
        "        self.population = [(\"reward = -state['x_pos']**2\", 0)]\n",
        "        self._update_fitness()\n",
        "\n",
        "    def _update_fitness(self):\n",
        "        self.population = [(code, evaluate_fitness(code)) for code, _ in self.population]\n",
        "        self.population.sort(key=lambda x: x[1], reverse=True)\n",
        "\n",
        "    def get_prompt_for_llm(self, feedback=\"\"):\n",
        "        prompt = \"# Environment has state: state['x_pos'], state['y_pos'], state['x_vel'], state['y_vel']\\\\n\"\n",
        "        prompt += \"# Goal: Make the agent moonwalk.\\\\n\"\n",
        "        if feedback: prompt += f\"# User Feedback: {feedback}\\\\n\"\n",
        "        prompt += \"# Here are the best performing reward functions so far:\\\\n\"\n",
        "        for code, fitness in self.population[:2]:\n",
        "            prompt += f\"# Fitness: {fitness:.1f}\\\\n# def get_reward(state):\\\\n#    {code}\\\\n\"\n",
        "        prompt += \"# Propose a new, better reward function code:\\\\ndef get_reward(state):\\\\n   reward = \"\n",
        "        return prompt\n",
        "\n",
        "    def generate_new_candidate(self, feedback=\"\"):\n",
        "        best_code, _ = self.population[0]\n",
        "        new_code = best_code.replace(\"reward = \", \"\") # Start from the best code\n",
        "        # Mock LLM logic based on feedback\n",
        "        if \"swing\" in feedback and \"y_vel\" not in new_code:\n",
        "            new_code += \" + 0.5 * abs(state['y_vel'])\"\n",
        "        if \"speed\" in feedback and \"x_vel\" not in new_code:\n",
        "            new_code += \" - 20 * abs(state['x_vel'] + 0.5)\" # Penalize deviation from target speed\n",
        "        # Add a random mutation\n",
        "        new_code += f\" + np.random.uniform(-0.1, 0.1) * state['y_pos']**2\"\n",
        "\n",
        "        self.population.append((\"reward = \" + new_code, 0))\n",
        "        self._update_fitness()\n",
        "\n",
        "# --- Interactive Demo ---\n",
        "eureka_llm = MockEurekaLLM()\n",
        "\n",
        "feedback_input = widgets.Textarea(description=\"Feedback:\", layout={'width':'95%', 'height':'80px'})\n",
        "generate_button = widgets.Button(description=\"Generate & Evaluate Next Generation\")\n",
        "prompt_output = widgets.HTML()\n",
        "population_output = widgets.HTML()\n",
        "\n",
        "# **THE FIX:** Create a FigureWidget for the plot\n",
        "fitness_plot = go.FigureWidget()\n",
        "fitness_plot.update_layout(title=\"Reward Function Fitness\", yaxis_title=\"Fitness Score\")\n",
        "\n",
        "def update_display():\n",
        "    prompt_output.value = f\"<b>Current Prompt to LLM:</b><pre>{eureka_llm.get_prompt_for_llm(feedback_input.value)}</pre>\"\n",
        "    # Update HTML display of population\n",
        "    pop_html = \"<b>Current Reward Population (Code -> Fitness):</b><br/>\"\n",
        "    for code, fitness in eureka_llm.population:\n",
        "        pop_html += f\"<code>{code}</code> -> {fitness}<br/>\"\n",
        "    population_output.value = pop_html\n",
        "\n",
        "    # Update the plot\n",
        "    with fitness_plot.batch_update():\n",
        "        fitness_plot.data = [] # Clear old data\n",
        "        codes = [p[0] for p in eureka_llm.population]\n",
        "        scores = [p[1] for p in eureka_llm.population]\n",
        "        fitness_plot.add_trace(go.Bar(x=[f\"Cand. {i}\" for i in range(len(codes))], y=scores, text=codes, hoverinfo='text'))\n",
        "        fitness_plot.layout.yaxis.autorange = True\n",
        "\n",
        "\n",
        "def on_generate_click(b):\n",
        "    eureka_llm.generate_new_candidate(feedback_input.value)\n",
        "    update_display()\n",
        "\n",
        "generate_button.on_click(on_generate_click)\n",
        "update_display()\n",
        "\n",
        "print(\"### Eureka's Reward Evolution Loop ###\")\n",
        "print(\"Provide feedback to guide the LLM's reward design. Try typing: 'moonwalk means the feet should swing' and generating.\")\n",
        "display(widgets.VBox([feedback_input, generate_button, prompt_output, widgets.HBox([population_output, fitness_plot])]))"
      ]
    },
    {
      "cell_type": "markdown",
      "id": "6b6f4d3d",
      "metadata": {
        "id": "6b6f4d3d"
      },
      "source": [
        "## Section 5: Future Directions and Final Takeaways\n",
        "\n",
        "The lecture concludes by looking forward, emphasizing two key areas:\n",
        "\n",
        "1.  **Learning from Internet-Scale Video:** Video is the richest source of data for learning about dynamics, physics, and human behavior. However, it's challenging due to:\n",
        "    - **Distribution Shift:** YouTube videos look different from a robot's camera view.\n",
        "    - **No Action Labels:** You see *what* happens, but not the motor commands that *caused* it.\n",
        "    - **Embodiment Mismatch (The \"Boxing Cat\" Problem):** An observer (the cat) may fundamentally misinterpret the purpose of an action (the boxer shaking his head) because it has a different body and context. A key research direction is training an **Inverse Dynamics Model (IDM)** to pseudo-label actions in unlabeled videos.\n",
        "\n",
        "2.  **True Multimodal Foundation Models:** Moving beyond text and static images to models that can seamlessly process a mix of text, images, videos, and audio as input to produce actions as output. The **VIMA** and **RT-2** projects are early steps in this direction, using \"multimodal prompting\" to define tasks.\n",
        "\n",
        "### Final Takeaway\n",
        "\n",
        "The journey towards generalist agents is a paradigm shift from building specialized problem-solvers to creating **autonomous, lifelong learners**. The key is not just about scaling up existing models, but about creating architectures that can actively interact with their environment, learn from diverse data sources, and continuously improve through a closed perception-action loop—finally allowing our AI to become the active kitten."
      ]
    }
  ],
  "metadata": {
    "kernelspec": {
      "display_name": "Python 3 (ipykernel)",
      "language": "python",
      "name": "python3"
    },
    "language_info": {
      "codemirror_mode": {
        "name": "ipython",
        "version": 3
      },
      "file_extension": ".py",
      "mimetype": "text/x-python",
      "name": "python",
      "nbconvert_exporter": "python",
      "pygments_lexer": "ipython3",
      "version": "3.10.9"
    },
    "colab": {
      "provenance": []
    },
    "widgets": {
      "application/vnd.jupyter.widget-state+json": {
        "f584d4af4d994557845423832c9899c3": {
          "model_module": "@jupyter-widgets/controls",
          "model_name": "VBoxModel",
          "model_module_version": "1.5.0",
          "state": {
            "_dom_classes": [],
            "_model_module": "@jupyter-widgets/controls",
            "_model_module_version": "1.5.0",
            "_model_name": "VBoxModel",
            "_view_count": null,
            "_view_module": "@jupyter-widgets/controls",
            "_view_module_version": "1.5.0",
            "_view_name": "VBoxView",
            "box_style": "",
            "children": [
              "IPY_MODEL_b97e96912778494daea9a39e57fcd285",
              "IPY_MODEL_f79fc8a9b3ad4db596301fd064a9393c"
            ],
            "layout": "IPY_MODEL_234cf1b26916455fb12cfbace1d43734"
          }
        },
        "b97e96912778494daea9a39e57fcd285": {
          "model_module": "@jupyter-widgets/controls",
          "model_name": "VBoxModel",
          "model_module_version": "1.5.0",
          "state": {
            "_dom_classes": [],
            "_model_module": "@jupyter-widgets/controls",
            "_model_module_version": "1.5.0",
            "_model_name": "VBoxModel",
            "_view_count": null,
            "_view_module": "@jupyter-widgets/controls",
            "_view_module_version": "1.5.0",
            "_view_name": "VBoxView",
            "box_style": "",
            "children": [
              "IPY_MODEL_4e5c4ee45e7c43c1b6a67d0e263f9e0e",
              "IPY_MODEL_0554e9b34fa34661a95fa0ee71f707f0",
              "IPY_MODEL_b0251986c1d94f17abaf033d49c51852"
            ],
            "layout": "IPY_MODEL_b4080a96effe4964979e9f07013ad943"
          }
        },
        "f79fc8a9b3ad4db596301fd064a9393c": {
          "model_module": "jupyterlab-plotly",
          "model_name": "FigureModel",
          "model_module_version": "^5.24.1",
          "state": {
            "_config": {
              "plotlyServerURL": "https://plot.ly"
            },
            "_data": [],
            "_dom_classes": [],
            "_js2py_layoutDelta": {},
            "_js2py_pointsCallback": {},
            "_js2py_relayout": {},
            "_js2py_restyle": {},
            "_js2py_traceDeltas": {},
            "_js2py_update": {},
            "_last_layout_edit_id": 4,
            "_last_trace_edit_id": 4,
            "_layout": {
              "annotations": [
                {
                  "font": {
                    "size": 16
                  },
                  "showarrow": false,
                  "text": "Embedding Space",
                  "x": 0.225,
                  "xanchor": "center",
                  "xref": "paper",
                  "y": 1,
                  "yanchor": "bottom",
                  "yref": "paper"
                },
                {
                  "font": {
                    "size": 16
                  },
                  "showarrow": false,
                  "text": "Softmax Attention (for V0)",
                  "x": 0.775,
                  "xanchor": "center",
                  "xref": "paper",
                  "y": 1,
                  "yanchor": "bottom",
                  "yref": "paper"
                }
              ],
              "template": {
                "data": {
                  "barpolar": [
                    {
                      "marker": {
                        "line": {
                          "color": "#E5ECF6",
                          "width": 0.5
                        },
                        "pattern": {
                          "fillmode": "overlay",
                          "size": 10,
                          "solidity": 0.2
                        }
                      },
                      "type": "barpolar"
                    }
                  ],
                  "bar": [
                    {
                      "error_x": {
                        "color": "#2a3f5f"
                      },
                      "error_y": {
                        "color": "#2a3f5f"
                      },
                      "marker": {
                        "line": {
                          "color": "#E5ECF6",
                          "width": 0.5
                        },
                        "pattern": {
                          "fillmode": "overlay",
                          "size": 10,
                          "solidity": 0.2
                        }
                      },
                      "type": "bar"
                    }
                  ],
                  "carpet": [
                    {
                      "aaxis": {
                        "endlinecolor": "#2a3f5f",
                        "gridcolor": "white",
                        "linecolor": "white",
                        "minorgridcolor": "white",
                        "startlinecolor": "#2a3f5f"
                      },
                      "baxis": {
                        "endlinecolor": "#2a3f5f",
                        "gridcolor": "white",
                        "linecolor": "white",
                        "minorgridcolor": "white",
                        "startlinecolor": "#2a3f5f"
                      },
                      "type": "carpet"
                    }
                  ],
                  "choropleth": [
                    {
                      "colorbar": {
                        "outlinewidth": 0,
                        "ticks": ""
                      },
                      "type": "choropleth"
                    }
                  ],
                  "contourcarpet": [
                    {
                      "colorbar": {
                        "outlinewidth": 0,
                        "ticks": ""
                      },
                      "type": "contourcarpet"
                    }
                  ],
                  "contour": [
                    {
                      "colorbar": {
                        "outlinewidth": 0,
                        "ticks": ""
                      },
                      "colorscale": [
                        [
                          0,
                          "#0d0887"
                        ],
                        [
                          0.1111111111111111,
                          "#46039f"
                        ],
                        [
                          0.2222222222222222,
                          "#7201a8"
                        ],
                        [
                          0.3333333333333333,
                          "#9c179e"
                        ],
                        [
                          0.4444444444444444,
                          "#bd3786"
                        ],
                        [
                          0.5555555555555556,
                          "#d8576b"
                        ],
                        [
                          0.6666666666666666,
                          "#ed7953"
                        ],
                        [
                          0.7777777777777778,
                          "#fb9f3a"
                        ],
                        [
                          0.8888888888888888,
                          "#fdca26"
                        ],
                        [
                          1,
                          "#f0f921"
                        ]
                      ],
                      "type": "contour"
                    }
                  ],
                  "heatmapgl": [
                    {
                      "colorbar": {
                        "outlinewidth": 0,
                        "ticks": ""
                      },
                      "colorscale": [
                        [
                          0,
                          "#0d0887"
                        ],
                        [
                          0.1111111111111111,
                          "#46039f"
                        ],
                        [
                          0.2222222222222222,
                          "#7201a8"
                        ],
                        [
                          0.3333333333333333,
                          "#9c179e"
                        ],
                        [
                          0.4444444444444444,
                          "#bd3786"
                        ],
                        [
                          0.5555555555555556,
                          "#d8576b"
                        ],
                        [
                          0.6666666666666666,
                          "#ed7953"
                        ],
                        [
                          0.7777777777777778,
                          "#fb9f3a"
                        ],
                        [
                          0.8888888888888888,
                          "#fdca26"
                        ],
                        [
                          1,
                          "#f0f921"
                        ]
                      ],
                      "type": "heatmapgl"
                    }
                  ],
                  "heatmap": [
                    {
                      "colorbar": {
                        "outlinewidth": 0,
                        "ticks": ""
                      },
                      "colorscale": [
                        [
                          0,
                          "#0d0887"
                        ],
                        [
                          0.1111111111111111,
                          "#46039f"
                        ],
                        [
                          0.2222222222222222,
                          "#7201a8"
                        ],
                        [
                          0.3333333333333333,
                          "#9c179e"
                        ],
                        [
                          0.4444444444444444,
                          "#bd3786"
                        ],
                        [
                          0.5555555555555556,
                          "#d8576b"
                        ],
                        [
                          0.6666666666666666,
                          "#ed7953"
                        ],
                        [
                          0.7777777777777778,
                          "#fb9f3a"
                        ],
                        [
                          0.8888888888888888,
                          "#fdca26"
                        ],
                        [
                          1,
                          "#f0f921"
                        ]
                      ],
                      "type": "heatmap"
                    }
                  ],
                  "histogram2dcontour": [
                    {
                      "colorbar": {
                        "outlinewidth": 0,
                        "ticks": ""
                      },
                      "colorscale": [
                        [
                          0,
                          "#0d0887"
                        ],
                        [
                          0.1111111111111111,
                          "#46039f"
                        ],
                        [
                          0.2222222222222222,
                          "#7201a8"
                        ],
                        [
                          0.3333333333333333,
                          "#9c179e"
                        ],
                        [
                          0.4444444444444444,
                          "#bd3786"
                        ],
                        [
                          0.5555555555555556,
                          "#d8576b"
                        ],
                        [
                          0.6666666666666666,
                          "#ed7953"
                        ],
                        [
                          0.7777777777777778,
                          "#fb9f3a"
                        ],
                        [
                          0.8888888888888888,
                          "#fdca26"
                        ],
                        [
                          1,
                          "#f0f921"
                        ]
                      ],
                      "type": "histogram2dcontour"
                    }
                  ],
                  "histogram2d": [
                    {
                      "colorbar": {
                        "outlinewidth": 0,
                        "ticks": ""
                      },
                      "colorscale": [
                        [
                          0,
                          "#0d0887"
                        ],
                        [
                          0.1111111111111111,
                          "#46039f"
                        ],
                        [
                          0.2222222222222222,
                          "#7201a8"
                        ],
                        [
                          0.3333333333333333,
                          "#9c179e"
                        ],
                        [
                          0.4444444444444444,
                          "#bd3786"
                        ],
                        [
                          0.5555555555555556,
                          "#d8576b"
                        ],
                        [
                          0.6666666666666666,
                          "#ed7953"
                        ],
                        [
                          0.7777777777777778,
                          "#fb9f3a"
                        ],
                        [
                          0.8888888888888888,
                          "#fdca26"
                        ],
                        [
                          1,
                          "#f0f921"
                        ]
                      ],
                      "type": "histogram2d"
                    }
                  ],
                  "histogram": [
                    {
                      "marker": {
                        "pattern": {
                          "fillmode": "overlay",
                          "size": 10,
                          "solidity": 0.2
                        }
                      },
                      "type": "histogram"
                    }
                  ],
                  "mesh3d": [
                    {
                      "colorbar": {
                        "outlinewidth": 0,
                        "ticks": ""
                      },
                      "type": "mesh3d"
                    }
                  ],
                  "parcoords": [
                    {
                      "line": {
                        "colorbar": {
                          "outlinewidth": 0,
                          "ticks": ""
                        }
                      },
                      "type": "parcoords"
                    }
                  ],
                  "pie": [
                    {
                      "automargin": true,
                      "type": "pie"
                    }
                  ],
                  "scatter3d": [
                    {
                      "line": {
                        "colorbar": {
                          "outlinewidth": 0,
                          "ticks": ""
                        }
                      },
                      "marker": {
                        "colorbar": {
                          "outlinewidth": 0,
                          "ticks": ""
                        }
                      },
                      "type": "scatter3d"
                    }
                  ],
                  "scattercarpet": [
                    {
                      "marker": {
                        "colorbar": {
                          "outlinewidth": 0,
                          "ticks": ""
                        }
                      },
                      "type": "scattercarpet"
                    }
                  ],
                  "scattergeo": [
                    {
                      "marker": {
                        "colorbar": {
                          "outlinewidth": 0,
                          "ticks": ""
                        }
                      },
                      "type": "scattergeo"
                    }
                  ],
                  "scattergl": [
                    {
                      "marker": {
                        "colorbar": {
                          "outlinewidth": 0,
                          "ticks": ""
                        }
                      },
                      "type": "scattergl"
                    }
                  ],
                  "scattermapbox": [
                    {
                      "marker": {
                        "colorbar": {
                          "outlinewidth": 0,
                          "ticks": ""
                        }
                      },
                      "type": "scattermapbox"
                    }
                  ],
                  "scatterpolargl": [
                    {
                      "marker": {
                        "colorbar": {
                          "outlinewidth": 0,
                          "ticks": ""
                        }
                      },
                      "type": "scatterpolargl"
                    }
                  ],
                  "scatterpolar": [
                    {
                      "marker": {
                        "colorbar": {
                          "outlinewidth": 0,
                          "ticks": ""
                        }
                      },
                      "type": "scatterpolar"
                    }
                  ],
                  "scatter": [
                    {
                      "fillpattern": {
                        "fillmode": "overlay",
                        "size": 10,
                        "solidity": 0.2
                      },
                      "type": "scatter"
                    }
                  ],
                  "scatterternary": [
                    {
                      "marker": {
                        "colorbar": {
                          "outlinewidth": 0,
                          "ticks": ""
                        }
                      },
                      "type": "scatterternary"
                    }
                  ],
                  "surface": [
                    {
                      "colorbar": {
                        "outlinewidth": 0,
                        "ticks": ""
                      },
                      "colorscale": [
                        [
                          0,
                          "#0d0887"
                        ],
                        [
                          0.1111111111111111,
                          "#46039f"
                        ],
                        [
                          0.2222222222222222,
                          "#7201a8"
                        ],
                        [
                          0.3333333333333333,
                          "#9c179e"
                        ],
                        [
                          0.4444444444444444,
                          "#bd3786"
                        ],
                        [
                          0.5555555555555556,
                          "#d8576b"
                        ],
                        [
                          0.6666666666666666,
                          "#ed7953"
                        ],
                        [
                          0.7777777777777778,
                          "#fb9f3a"
                        ],
                        [
                          0.8888888888888888,
                          "#fdca26"
                        ],
                        [
                          1,
                          "#f0f921"
                        ]
                      ],
                      "type": "surface"
                    }
                  ],
                  "table": [
                    {
                      "cells": {
                        "fill": {
                          "color": "#EBF0F8"
                        },
                        "line": {
                          "color": "white"
                        }
                      },
                      "header": {
                        "fill": {
                          "color": "#C8D4E3"
                        },
                        "line": {
                          "color": "white"
                        }
                      },
                      "type": "table"
                    }
                  ]
                },
                "layout": {
                  "annotationdefaults": {
                    "arrowcolor": "#2a3f5f",
                    "arrowhead": 0,
                    "arrowwidth": 1
                  },
                  "autotypenumbers": "strict",
                  "coloraxis": {
                    "colorbar": {
                      "outlinewidth": 0,
                      "ticks": ""
                    }
                  },
                  "colorscale": {
                    "diverging": [
                      [
                        0,
                        "#8e0152"
                      ],
                      [
                        0.1,
                        "#c51b7d"
                      ],
                      [
                        0.2,
                        "#de77ae"
                      ],
                      [
                        0.3,
                        "#f1b6da"
                      ],
                      [
                        0.4,
                        "#fde0ef"
                      ],
                      [
                        0.5,
                        "#f7f7f7"
                      ],
                      [
                        0.6,
                        "#e6f5d0"
                      ],
                      [
                        0.7,
                        "#b8e186"
                      ],
                      [
                        0.8,
                        "#7fbc41"
                      ],
                      [
                        0.9,
                        "#4d9221"
                      ],
                      [
                        1,
                        "#276419"
                      ]
                    ],
                    "sequential": [
                      [
                        0,
                        "#0d0887"
                      ],
                      [
                        0.1111111111111111,
                        "#46039f"
                      ],
                      [
                        0.2222222222222222,
                        "#7201a8"
                      ],
                      [
                        0.3333333333333333,
                        "#9c179e"
                      ],
                      [
                        0.4444444444444444,
                        "#bd3786"
                      ],
                      [
                        0.5555555555555556,
                        "#d8576b"
                      ],
                      [
                        0.6666666666666666,
                        "#ed7953"
                      ],
                      [
                        0.7777777777777778,
                        "#fb9f3a"
                      ],
                      [
                        0.8888888888888888,
                        "#fdca26"
                      ],
                      [
                        1,
                        "#f0f921"
                      ]
                    ],
                    "sequentialminus": [
                      [
                        0,
                        "#0d0887"
                      ],
                      [
                        0.1111111111111111,
                        "#46039f"
                      ],
                      [
                        0.2222222222222222,
                        "#7201a8"
                      ],
                      [
                        0.3333333333333333,
                        "#9c179e"
                      ],
                      [
                        0.4444444444444444,
                        "#bd3786"
                      ],
                      [
                        0.5555555555555556,
                        "#d8576b"
                      ],
                      [
                        0.6666666666666666,
                        "#ed7953"
                      ],
                      [
                        0.7777777777777778,
                        "#fb9f3a"
                      ],
                      [
                        0.8888888888888888,
                        "#fdca26"
                      ],
                      [
                        1,
                        "#f0f921"
                      ]
                    ]
                  },
                  "colorway": [
                    "#636efa",
                    "#EF553B",
                    "#00cc96",
                    "#ab63fa",
                    "#FFA15A",
                    "#19d3f3",
                    "#FF6692",
                    "#B6E880",
                    "#FF97FF",
                    "#FECB52"
                  ],
                  "font": {
                    "color": "#2a3f5f"
                  },
                  "geo": {
                    "bgcolor": "white",
                    "lakecolor": "white",
                    "landcolor": "#E5ECF6",
                    "showlakes": true,
                    "showland": true,
                    "subunitcolor": "white"
                  },
                  "hoverlabel": {
                    "align": "left"
                  },
                  "hovermode": "closest",
                  "mapbox": {
                    "style": "light"
                  },
                  "paper_bgcolor": "white",
                  "plot_bgcolor": "#E5ECF6",
                  "polar": {
                    "angularaxis": {
                      "gridcolor": "white",
                      "linecolor": "white",
                      "ticks": ""
                    },
                    "bgcolor": "#E5ECF6",
                    "radialaxis": {
                      "gridcolor": "white",
                      "linecolor": "white",
                      "ticks": ""
                    }
                  },
                  "scene": {
                    "xaxis": {
                      "backgroundcolor": "#E5ECF6",
                      "gridcolor": "white",
                      "gridwidth": 2,
                      "linecolor": "white",
                      "showbackground": true,
                      "ticks": "",
                      "zerolinecolor": "white"
                    },
                    "yaxis": {
                      "backgroundcolor": "#E5ECF6",
                      "gridcolor": "white",
                      "gridwidth": 2,
                      "linecolor": "white",
                      "showbackground": true,
                      "ticks": "",
                      "zerolinecolor": "white"
                    },
                    "zaxis": {
                      "backgroundcolor": "#E5ECF6",
                      "gridcolor": "white",
                      "gridwidth": 2,
                      "linecolor": "white",
                      "showbackground": true,
                      "ticks": "",
                      "zerolinecolor": "white"
                    }
                  },
                  "shapedefaults": {
                    "line": {
                      "color": "#2a3f5f"
                    }
                  },
                  "ternary": {
                    "aaxis": {
                      "gridcolor": "white",
                      "linecolor": "white",
                      "ticks": ""
                    },
                    "baxis": {
                      "gridcolor": "white",
                      "linecolor": "white",
                      "ticks": ""
                    },
                    "bgcolor": "#E5ECF6",
                    "caxis": {
                      "gridcolor": "white",
                      "linecolor": "white",
                      "ticks": ""
                    }
                  },
                  "title": {
                    "x": 0.05
                  },
                  "xaxis": {
                    "automargin": true,
                    "gridcolor": "white",
                    "linecolor": "white",
                    "ticks": "",
                    "title": {
                      "standoff": 15
                    },
                    "zerolinecolor": "white",
                    "zerolinewidth": 2
                  },
                  "yaxis": {
                    "automargin": true,
                    "gridcolor": "white",
                    "linecolor": "white",
                    "ticks": "",
                    "title": {
                      "standoff": 15
                    },
                    "zerolinecolor": "white",
                    "zerolinewidth": 2
                  }
                }
              },
              "xaxis": {
                "anchor": "y",
                "domain": [
                  0,
                  0.45
                ]
              },
              "yaxis": {
                "anchor": "x",
                "domain": [
                  0,
                  1
                ]
              },
              "xaxis2": {
                "anchor": "y2",
                "domain": [
                  0.55,
                  1
                ]
              },
              "yaxis2": {
                "anchor": "x2",
                "domain": [
                  0,
                  1
                ]
              }
            },
            "_model_module": "jupyterlab-plotly",
            "_model_module_version": "^5.24.1",
            "_model_name": "FigureModel",
            "_py2js_addTraces": null,
            "_py2js_animate": {},
            "_py2js_deleteTraces": {},
            "_py2js_moveTraces": {},
            "_py2js_relayout": {},
            "_py2js_removeLayoutProps": {},
            "_py2js_removeTraceProps": {},
            "_py2js_restyle": {},
            "_py2js_update": null,
            "_view_count": 0,
            "_view_module": "jupyterlab-plotly",
            "_view_module_version": "^5.24.1",
            "_view_name": "FigureView"
          }
        },
        "234cf1b26916455fb12cfbace1d43734": {
          "model_module": "@jupyter-widgets/base",
          "model_name": "LayoutModel",
          "model_module_version": "1.2.0",
          "state": {
            "_model_module": "@jupyter-widgets/base",
            "_model_module_version": "1.2.0",
            "_model_name": "LayoutModel",
            "_view_count": null,
            "_view_module": "@jupyter-widgets/base",
            "_view_module_version": "1.2.0",
            "_view_name": "LayoutView",
            "align_content": null,
            "align_items": null,
            "align_self": null,
            "border": null,
            "bottom": null,
            "display": null,
            "flex": null,
            "flex_flow": null,
            "grid_area": null,
            "grid_auto_columns": null,
            "grid_auto_flow": null,
            "grid_auto_rows": null,
            "grid_column": null,
            "grid_gap": null,
            "grid_row": null,
            "grid_template_areas": null,
            "grid_template_columns": null,
            "grid_template_rows": null,
            "height": null,
            "justify_content": null,
            "justify_items": null,
            "left": null,
            "margin": null,
            "max_height": null,
            "max_width": null,
            "min_height": null,
            "min_width": null,
            "object_fit": null,
            "object_position": null,
            "order": null,
            "overflow": null,
            "overflow_x": null,
            "overflow_y": null,
            "padding": null,
            "right": null,
            "top": null,
            "visibility": null,
            "width": null
          }
        },
        "4e5c4ee45e7c43c1b6a67d0e263f9e0e": {
          "model_module": "@jupyter-widgets/controls",
          "model_name": "IntSliderModel",
          "model_module_version": "1.5.0",
          "state": {
            "_dom_classes": [],
            "_model_module": "@jupyter-widgets/controls",
            "_model_module_version": "1.5.0",
            "_model_name": "IntSliderModel",
            "_view_count": null,
            "_view_module": "@jupyter-widgets/controls",
            "_view_module_version": "1.5.0",
            "_view_name": "IntSliderView",
            "continuous_update": true,
            "description": "Num Pairs",
            "description_tooltip": null,
            "disabled": false,
            "layout": "IPY_MODEL_ba71140c4e2e4a8692ea0b8a1d270a49",
            "max": 16,
            "min": 4,
            "orientation": "horizontal",
            "readout": true,
            "readout_format": "d",
            "step": 2,
            "style": "IPY_MODEL_470a9be2d5114b2bae2800d9a0bb4578",
            "value": 8
          }
        },
        "0554e9b34fa34661a95fa0ee71f707f0": {
          "model_module": "@jupyter-widgets/controls",
          "model_name": "FloatSliderModel",
          "model_module_version": "1.5.0",
          "state": {
            "_dom_classes": [],
            "_model_module": "@jupyter-widgets/controls",
            "_model_module_version": "1.5.0",
            "_model_name": "FloatSliderModel",
            "_view_count": null,
            "_view_module": "@jupyter-widgets/controls",
            "_view_module_version": "1.5.0",
            "_view_name": "FloatSliderView",
            "continuous_update": true,
            "description": "Temp (τ)",
            "description_tooltip": null,
            "disabled": false,
            "layout": "IPY_MODEL_d77b16ddd76b4ac684e1b379d513afb6",
            "max": 1,
            "min": 0.01,
            "orientation": "horizontal",
            "readout": true,
            "readout_format": ".2f",
            "step": 0.01,
            "style": "IPY_MODEL_31bfda1ea93c4e4396a6a611b3108dcf",
            "value": 0.1
          }
        },
        "b0251986c1d94f17abaf033d49c51852": {
          "model_module": "@jupyter-widgets/controls",
          "model_name": "FloatSliderModel",
          "model_module_version": "1.5.0",
          "state": {
            "_dom_classes": [],
            "_model_module": "@jupyter-widgets/controls",
            "_model_module_version": "1.5.0",
            "_model_name": "FloatSliderModel",
            "_view_count": null,
            "_view_module": "@jupyter-widgets/controls",
            "_view_module_version": "1.5.0",
            "_view_name": "FloatSliderView",
            "continuous_update": true,
            "description": "Noise",
            "description_tooltip": null,
            "disabled": false,
            "layout": "IPY_MODEL_00567489214c44ac8c8f80757a171d61",
            "max": 2,
            "min": 0.1,
            "orientation": "horizontal",
            "readout": true,
            "readout_format": ".2f",
            "step": 0.1,
            "style": "IPY_MODEL_f8556fd4da2846df8f06bc9c580642ca",
            "value": 0.5
          }
        },
        "b4080a96effe4964979e9f07013ad943": {
          "model_module": "@jupyter-widgets/base",
          "model_name": "LayoutModel",
          "model_module_version": "1.2.0",
          "state": {
            "_model_module": "@jupyter-widgets/base",
            "_model_module_version": "1.2.0",
            "_model_name": "LayoutModel",
            "_view_count": null,
            "_view_module": "@jupyter-widgets/base",
            "_view_module_version": "1.2.0",
            "_view_name": "LayoutView",
            "align_content": null,
            "align_items": null,
            "align_self": null,
            "border": null,
            "bottom": null,
            "display": null,
            "flex": null,
            "flex_flow": null,
            "grid_area": null,
            "grid_auto_columns": null,
            "grid_auto_flow": null,
            "grid_auto_rows": null,
            "grid_column": null,
            "grid_gap": null,
            "grid_row": null,
            "grid_template_areas": null,
            "grid_template_columns": null,
            "grid_template_rows": null,
            "height": null,
            "justify_content": null,
            "justify_items": null,
            "left": null,
            "margin": null,
            "max_height": null,
            "max_width": null,
            "min_height": null,
            "min_width": null,
            "object_fit": null,
            "object_position": null,
            "order": null,
            "overflow": null,
            "overflow_x": null,
            "overflow_y": null,
            "padding": null,
            "right": null,
            "top": null,
            "visibility": null,
            "width": null
          }
        },
        "ba71140c4e2e4a8692ea0b8a1d270a49": {
          "model_module": "@jupyter-widgets/base",
          "model_name": "LayoutModel",
          "model_module_version": "1.2.0",
          "state": {
            "_model_module": "@jupyter-widgets/base",
            "_model_module_version": "1.2.0",
            "_model_name": "LayoutModel",
            "_view_count": null,
            "_view_module": "@jupyter-widgets/base",
            "_view_module_version": "1.2.0",
            "_view_name": "LayoutView",
            "align_content": null,
            "align_items": null,
            "align_self": null,
            "border": null,
            "bottom": null,
            "display": null,
            "flex": null,
            "flex_flow": null,
            "grid_area": null,
            "grid_auto_columns": null,
            "grid_auto_flow": null,
            "grid_auto_rows": null,
            "grid_column": null,
            "grid_gap": null,
            "grid_row": null,
            "grid_template_areas": null,
            "grid_template_columns": null,
            "grid_template_rows": null,
            "height": null,
            "justify_content": null,
            "justify_items": null,
            "left": null,
            "margin": null,
            "max_height": null,
            "max_width": null,
            "min_height": null,
            "min_width": null,
            "object_fit": null,
            "object_position": null,
            "order": null,
            "overflow": null,
            "overflow_x": null,
            "overflow_y": null,
            "padding": null,
            "right": null,
            "top": null,
            "visibility": null,
            "width": null
          }
        },
        "470a9be2d5114b2bae2800d9a0bb4578": {
          "model_module": "@jupyter-widgets/controls",
          "model_name": "SliderStyleModel",
          "model_module_version": "1.5.0",
          "state": {
            "_model_module": "@jupyter-widgets/controls",
            "_model_module_version": "1.5.0",
            "_model_name": "SliderStyleModel",
            "_view_count": null,
            "_view_module": "@jupyter-widgets/base",
            "_view_module_version": "1.2.0",
            "_view_name": "StyleView",
            "description_width": "",
            "handle_color": null
          }
        },
        "d77b16ddd76b4ac684e1b379d513afb6": {
          "model_module": "@jupyter-widgets/base",
          "model_name": "LayoutModel",
          "model_module_version": "1.2.0",
          "state": {
            "_model_module": "@jupyter-widgets/base",
            "_model_module_version": "1.2.0",
            "_model_name": "LayoutModel",
            "_view_count": null,
            "_view_module": "@jupyter-widgets/base",
            "_view_module_version": "1.2.0",
            "_view_name": "LayoutView",
            "align_content": null,
            "align_items": null,
            "align_self": null,
            "border": null,
            "bottom": null,
            "display": null,
            "flex": null,
            "flex_flow": null,
            "grid_area": null,
            "grid_auto_columns": null,
            "grid_auto_flow": null,
            "grid_auto_rows": null,
            "grid_column": null,
            "grid_gap": null,
            "grid_row": null,
            "grid_template_areas": null,
            "grid_template_columns": null,
            "grid_template_rows": null,
            "height": null,
            "justify_content": null,
            "justify_items": null,
            "left": null,
            "margin": null,
            "max_height": null,
            "max_width": null,
            "min_height": null,
            "min_width": null,
            "object_fit": null,
            "object_position": null,
            "order": null,
            "overflow": null,
            "overflow_x": null,
            "overflow_y": null,
            "padding": null,
            "right": null,
            "top": null,
            "visibility": null,
            "width": null
          }
        },
        "31bfda1ea93c4e4396a6a611b3108dcf": {
          "model_module": "@jupyter-widgets/controls",
          "model_name": "SliderStyleModel",
          "model_module_version": "1.5.0",
          "state": {
            "_model_module": "@jupyter-widgets/controls",
            "_model_module_version": "1.5.0",
            "_model_name": "SliderStyleModel",
            "_view_count": null,
            "_view_module": "@jupyter-widgets/base",
            "_view_module_version": "1.2.0",
            "_view_name": "StyleView",
            "description_width": "",
            "handle_color": null
          }
        },
        "00567489214c44ac8c8f80757a171d61": {
          "model_module": "@jupyter-widgets/base",
          "model_name": "LayoutModel",
          "model_module_version": "1.2.0",
          "state": {
            "_model_module": "@jupyter-widgets/base",
            "_model_module_version": "1.2.0",
            "_model_name": "LayoutModel",
            "_view_count": null,
            "_view_module": "@jupyter-widgets/base",
            "_view_module_version": "1.2.0",
            "_view_name": "LayoutView",
            "align_content": null,
            "align_items": null,
            "align_self": null,
            "border": null,
            "bottom": null,
            "display": null,
            "flex": null,
            "flex_flow": null,
            "grid_area": null,
            "grid_auto_columns": null,
            "grid_auto_flow": null,
            "grid_auto_rows": null,
            "grid_column": null,
            "grid_gap": null,
            "grid_row": null,
            "grid_template_areas": null,
            "grid_template_columns": null,
            "grid_template_rows": null,
            "height": null,
            "justify_content": null,
            "justify_items": null,
            "left": null,
            "margin": null,
            "max_height": null,
            "max_width": null,
            "min_height": null,
            "min_width": null,
            "object_fit": null,
            "object_position": null,
            "order": null,
            "overflow": null,
            "overflow_x": null,
            "overflow_y": null,
            "padding": null,
            "right": null,
            "top": null,
            "visibility": null,
            "width": null
          }
        },
        "f8556fd4da2846df8f06bc9c580642ca": {
          "model_module": "@jupyter-widgets/controls",
          "model_name": "SliderStyleModel",
          "model_module_version": "1.5.0",
          "state": {
            "_model_module": "@jupyter-widgets/controls",
            "_model_module_version": "1.5.0",
            "_model_name": "SliderStyleModel",
            "_view_count": null,
            "_view_module": "@jupyter-widgets/base",
            "_view_module_version": "1.2.0",
            "_view_name": "StyleView",
            "description_width": "",
            "handle_color": null
          }
        },
        "3e7bb0b551ae4582a64772a4d758f878": {
          "model_module": "@jupyter-widgets/controls",
          "model_name": "VBoxModel",
          "model_module_version": "1.5.0",
          "state": {
            "_dom_classes": [],
            "_model_module": "@jupyter-widgets/controls",
            "_model_module_version": "1.5.0",
            "_model_name": "VBoxModel",
            "_view_count": null,
            "_view_module": "@jupyter-widgets/controls",
            "_view_module_version": "1.5.0",
            "_view_name": "VBoxView",
            "box_style": "",
            "children": [
              "IPY_MODEL_4ca527b8bc7f445fb781a60f2f586919",
              "IPY_MODEL_35153aadc3544fcfbf6c63d72e344a47"
            ],
            "layout": "IPY_MODEL_84ede16ee2ad4bb29532284281505329"
          }
        },
        "4ca527b8bc7f445fb781a60f2f586919": {
          "model_module": "@jupyter-widgets/controls",
          "model_name": "TextModel",
          "model_module_version": "1.5.0",
          "state": {
            "_dom_classes": [],
            "_model_module": "@jupyter-widgets/controls",
            "_model_module_version": "1.5.0",
            "_model_name": "TextModel",
            "_view_count": null,
            "_view_module": "@jupyter-widgets/controls",
            "_view_module_version": "1.5.0",
            "_view_name": "TextView",
            "continuous_update": true,
            "description": "Task:",
            "description_tooltip": null,
            "disabled": false,
            "layout": "IPY_MODEL_f11d8f4bff784734be36619eab964bb4",
            "placeholder": "​",
            "style": "IPY_MODEL_e15c04d8f8e24371931c169d9fe70b2d",
            "value": "make a stone tool"
          }
        },
        "35153aadc3544fcfbf6c63d72e344a47": {
          "model_module": "@jupyter-widgets/controls",
          "model_name": "HTMLModel",
          "model_module_version": "1.5.0",
          "state": {
            "_dom_classes": [],
            "_model_module": "@jupyter-widgets/controls",
            "_model_module_version": "1.5.0",
            "_model_name": "HTMLModel",
            "_view_count": null,
            "_view_module": "@jupyter-widgets/controls",
            "_view_module_version": "1.5.0",
            "_view_name": "HTMLView",
            "description": "",
            "description_tooltip": null,
            "layout": "IPY_MODEL_5bb3be1689e84de2a4e404adcc37bea1",
            "placeholder": "​",
            "style": "IPY_MODEL_bf439cf2f32641f49b22b4ea7ebf86dc",
            "value": "<table border=\"1\" class=\"dataframe\">\n  <thead>\n    <tr style=\"text-align: right;\">\n      <th>description</th>\n      <th>code</th>\n      <th>similarity</th>\n    </tr>\n  </thead>\n  <tbody>\n    <tr>\n      <td>kill a zombie with a sword to get rotten flesh</td>\n      <td>bot.equip('sword'); bot.attack('zombie');</td>\n      <td>0.0</td>\n    </tr>\n    <tr>\n      <td>smelt iron ore in a furnace to get an iron ingot</td>\n      <td>bot.smelt('iron_ore', 'furnace');</td>\n      <td>0.0</td>\n    </tr>\n    <tr>\n      <td>craft a furnace from 8 cobblestone blocks</td>\n      <td>bot.craft({item: 'furnace', ingredients: ['cobblestone']*8});</td>\n      <td>0.0</td>\n    </tr>\n  </tbody>\n</table>"
          }
        },
        "84ede16ee2ad4bb29532284281505329": {
          "model_module": "@jupyter-widgets/base",
          "model_name": "LayoutModel",
          "model_module_version": "1.2.0",
          "state": {
            "_model_module": "@jupyter-widgets/base",
            "_model_module_version": "1.2.0",
            "_model_name": "LayoutModel",
            "_view_count": null,
            "_view_module": "@jupyter-widgets/base",
            "_view_module_version": "1.2.0",
            "_view_name": "LayoutView",
            "align_content": null,
            "align_items": null,
            "align_self": null,
            "border": null,
            "bottom": null,
            "display": null,
            "flex": null,
            "flex_flow": null,
            "grid_area": null,
            "grid_auto_columns": null,
            "grid_auto_flow": null,
            "grid_auto_rows": null,
            "grid_column": null,
            "grid_gap": null,
            "grid_row": null,
            "grid_template_areas": null,
            "grid_template_columns": null,
            "grid_template_rows": null,
            "height": null,
            "justify_content": null,
            "justify_items": null,
            "left": null,
            "margin": null,
            "max_height": null,
            "max_width": null,
            "min_height": null,
            "min_width": null,
            "object_fit": null,
            "object_position": null,
            "order": null,
            "overflow": null,
            "overflow_x": null,
            "overflow_y": null,
            "padding": null,
            "right": null,
            "top": null,
            "visibility": null,
            "width": null
          }
        },
        "f11d8f4bff784734be36619eab964bb4": {
          "model_module": "@jupyter-widgets/base",
          "model_name": "LayoutModel",
          "model_module_version": "1.2.0",
          "state": {
            "_model_module": "@jupyter-widgets/base",
            "_model_module_version": "1.2.0",
            "_model_name": "LayoutModel",
            "_view_count": null,
            "_view_module": "@jupyter-widgets/base",
            "_view_module_version": "1.2.0",
            "_view_name": "LayoutView",
            "align_content": null,
            "align_items": null,
            "align_self": null,
            "border": null,
            "bottom": null,
            "display": null,
            "flex": null,
            "flex_flow": null,
            "grid_area": null,
            "grid_auto_columns": null,
            "grid_auto_flow": null,
            "grid_auto_rows": null,
            "grid_column": null,
            "grid_gap": null,
            "grid_row": null,
            "grid_template_areas": null,
            "grid_template_columns": null,
            "grid_template_rows": null,
            "height": null,
            "justify_content": null,
            "justify_items": null,
            "left": null,
            "margin": null,
            "max_height": null,
            "max_width": null,
            "min_height": null,
            "min_width": null,
            "object_fit": null,
            "object_position": null,
            "order": null,
            "overflow": null,
            "overflow_x": null,
            "overflow_y": null,
            "padding": null,
            "right": null,
            "top": null,
            "visibility": null,
            "width": "400px"
          }
        },
        "e15c04d8f8e24371931c169d9fe70b2d": {
          "model_module": "@jupyter-widgets/controls",
          "model_name": "DescriptionStyleModel",
          "model_module_version": "1.5.0",
          "state": {
            "_model_module": "@jupyter-widgets/controls",
            "_model_module_version": "1.5.0",
            "_model_name": "DescriptionStyleModel",
            "_view_count": null,
            "_view_module": "@jupyter-widgets/base",
            "_view_module_version": "1.2.0",
            "_view_name": "StyleView",
            "description_width": ""
          }
        },
        "5bb3be1689e84de2a4e404adcc37bea1": {
          "model_module": "@jupyter-widgets/base",
          "model_name": "LayoutModel",
          "model_module_version": "1.2.0",
          "state": {
            "_model_module": "@jupyter-widgets/base",
            "_model_module_version": "1.2.0",
            "_model_name": "LayoutModel",
            "_view_count": null,
            "_view_module": "@jupyter-widgets/base",
            "_view_module_version": "1.2.0",
            "_view_name": "LayoutView",
            "align_content": null,
            "align_items": null,
            "align_self": null,
            "border": null,
            "bottom": null,
            "display": null,
            "flex": null,
            "flex_flow": null,
            "grid_area": null,
            "grid_auto_columns": null,
            "grid_auto_flow": null,
            "grid_auto_rows": null,
            "grid_column": null,
            "grid_gap": null,
            "grid_row": null,
            "grid_template_areas": null,
            "grid_template_columns": null,
            "grid_template_rows": null,
            "height": null,
            "justify_content": null,
            "justify_items": null,
            "left": null,
            "margin": null,
            "max_height": null,
            "max_width": null,
            "min_height": null,
            "min_width": null,
            "object_fit": null,
            "object_position": null,
            "order": null,
            "overflow": null,
            "overflow_x": null,
            "overflow_y": null,
            "padding": null,
            "right": null,
            "top": null,
            "visibility": null,
            "width": null
          }
        },
        "bf439cf2f32641f49b22b4ea7ebf86dc": {
          "model_module": "@jupyter-widgets/controls",
          "model_name": "DescriptionStyleModel",
          "model_module_version": "1.5.0",
          "state": {
            "_model_module": "@jupyter-widgets/controls",
            "_model_module_version": "1.5.0",
            "_model_name": "DescriptionStyleModel",
            "_view_count": null,
            "_view_module": "@jupyter-widgets/base",
            "_view_module_version": "1.2.0",
            "_view_name": "StyleView",
            "description_width": ""
          }
        },
        "bd891cc0b0ce4ebfa3bab86372653843": {
          "model_module": "@jupyter-widgets/controls",
          "model_name": "VBoxModel",
          "model_module_version": "1.5.0",
          "state": {
            "_dom_classes": [],
            "_model_module": "@jupyter-widgets/controls",
            "_model_module_version": "1.5.0",
            "_model_name": "VBoxModel",
            "_view_count": null,
            "_view_module": "@jupyter-widgets/controls",
            "_view_module_version": "1.5.0",
            "_view_name": "VBoxView",
            "box_style": "",
            "children": [
              "IPY_MODEL_9c7a66c3c80c48388ba4c43199e6a263",
              "IPY_MODEL_e7468bc9b8d844b19e2fe7d826ba166e",
              "IPY_MODEL_38c309d9012a415e91e498f70a87a210",
              "IPY_MODEL_4549dbb595ea43c38ca0289d4076d939"
            ],
            "layout": "IPY_MODEL_c9cc1332cf3d4a7caf707ef2a9208d5a"
          }
        },
        "9c7a66c3c80c48388ba4c43199e6a263": {
          "model_module": "@jupyter-widgets/controls",
          "model_name": "TextareaModel",
          "model_module_version": "1.5.0",
          "state": {
            "_dom_classes": [],
            "_model_module": "@jupyter-widgets/controls",
            "_model_module_version": "1.5.0",
            "_model_name": "TextareaModel",
            "_view_count": null,
            "_view_module": "@jupyter-widgets/controls",
            "_view_module_version": "1.5.0",
            "_view_name": "TextareaView",
            "continuous_update": true,
            "description": "Feedback:",
            "description_tooltip": null,
            "disabled": false,
            "layout": "IPY_MODEL_4f8ead2370f142a19942b3dcbe3ecf7d",
            "placeholder": "​",
            "rows": null,
            "style": "IPY_MODEL_9f8a610570c44eacac9f764d34b1ebfa",
            "value": "moonwalk means the feet should swing\n"
          }
        },
        "e7468bc9b8d844b19e2fe7d826ba166e": {
          "model_module": "@jupyter-widgets/controls",
          "model_name": "ButtonModel",
          "model_module_version": "1.5.0",
          "state": {
            "_dom_classes": [],
            "_model_module": "@jupyter-widgets/controls",
            "_model_module_version": "1.5.0",
            "_model_name": "ButtonModel",
            "_view_count": null,
            "_view_module": "@jupyter-widgets/controls",
            "_view_module_version": "1.5.0",
            "_view_name": "ButtonView",
            "button_style": "",
            "description": "Generate & Evaluate Next Generation",
            "disabled": false,
            "icon": "",
            "layout": "IPY_MODEL_4175b0278d3d46d28fbfb8aa998ebfe3",
            "style": "IPY_MODEL_6367a3f5412e47bcb16e3ced34f562de",
            "tooltip": ""
          }
        },
        "38c309d9012a415e91e498f70a87a210": {
          "model_module": "@jupyter-widgets/controls",
          "model_name": "HTMLModel",
          "model_module_version": "1.5.0",
          "state": {
            "_dom_classes": [],
            "_model_module": "@jupyter-widgets/controls",
            "_model_module_version": "1.5.0",
            "_model_name": "HTMLModel",
            "_view_count": null,
            "_view_module": "@jupyter-widgets/controls",
            "_view_module_version": "1.5.0",
            "_view_name": "HTMLView",
            "description": "",
            "description_tooltip": null,
            "layout": "IPY_MODEL_6c2a97f90a4041c7a98df24489a2e00b",
            "placeholder": "​",
            "style": "IPY_MODEL_f7eb54ef941d4b9e8afd2507fc01f341",
            "value": "<b>Current Prompt to LLM:</b><pre># Environment has state: state['x_pos'], state['y_pos'], state['x_vel'], state['y_vel']\\n# Goal: Make the agent moonwalk.\\n# User Feedback: moonwalk means the feet should swing\n\\n# Here are the best performing reward functions so far:\\n# Fitness: 78.0\\n# def get_reward(state):\\n#    reward = -state['x_pos']**2 + 0.5 * abs(state['y_vel']) + np.random.uniform(-0.1, 0.1) * state['y_pos']**2\\n# Fitness: 47.0\\n# def get_reward(state):\\n#    reward = -state['x_pos']**2\\n# Propose a new, better reward function code:\\ndef get_reward(state):\\n   reward = </pre>"
          }
        },
        "4549dbb595ea43c38ca0289d4076d939": {
          "model_module": "@jupyter-widgets/controls",
          "model_name": "HBoxModel",
          "model_module_version": "1.5.0",
          "state": {
            "_dom_classes": [],
            "_model_module": "@jupyter-widgets/controls",
            "_model_module_version": "1.5.0",
            "_model_name": "HBoxModel",
            "_view_count": null,
            "_view_module": "@jupyter-widgets/controls",
            "_view_module_version": "1.5.0",
            "_view_name": "HBoxView",
            "box_style": "",
            "children": [
              "IPY_MODEL_7f60c2eea7b9472799792863ea13ca04",
              "IPY_MODEL_ad22be4f0e0f4335a7937bffb3f8291b"
            ],
            "layout": "IPY_MODEL_22b20a83a3634961af35005281ac55db"
          }
        },
        "c9cc1332cf3d4a7caf707ef2a9208d5a": {
          "model_module": "@jupyter-widgets/base",
          "model_name": "LayoutModel",
          "model_module_version": "1.2.0",
          "state": {
            "_model_module": "@jupyter-widgets/base",
            "_model_module_version": "1.2.0",
            "_model_name": "LayoutModel",
            "_view_count": null,
            "_view_module": "@jupyter-widgets/base",
            "_view_module_version": "1.2.0",
            "_view_name": "LayoutView",
            "align_content": null,
            "align_items": null,
            "align_self": null,
            "border": null,
            "bottom": null,
            "display": null,
            "flex": null,
            "flex_flow": null,
            "grid_area": null,
            "grid_auto_columns": null,
            "grid_auto_flow": null,
            "grid_auto_rows": null,
            "grid_column": null,
            "grid_gap": null,
            "grid_row": null,
            "grid_template_areas": null,
            "grid_template_columns": null,
            "grid_template_rows": null,
            "height": null,
            "justify_content": null,
            "justify_items": null,
            "left": null,
            "margin": null,
            "max_height": null,
            "max_width": null,
            "min_height": null,
            "min_width": null,
            "object_fit": null,
            "object_position": null,
            "order": null,
            "overflow": null,
            "overflow_x": null,
            "overflow_y": null,
            "padding": null,
            "right": null,
            "top": null,
            "visibility": null,
            "width": null
          }
        },
        "4f8ead2370f142a19942b3dcbe3ecf7d": {
          "model_module": "@jupyter-widgets/base",
          "model_name": "LayoutModel",
          "model_module_version": "1.2.0",
          "state": {
            "_model_module": "@jupyter-widgets/base",
            "_model_module_version": "1.2.0",
            "_model_name": "LayoutModel",
            "_view_count": null,
            "_view_module": "@jupyter-widgets/base",
            "_view_module_version": "1.2.0",
            "_view_name": "LayoutView",
            "align_content": null,
            "align_items": null,
            "align_self": null,
            "border": null,
            "bottom": null,
            "display": null,
            "flex": null,
            "flex_flow": null,
            "grid_area": null,
            "grid_auto_columns": null,
            "grid_auto_flow": null,
            "grid_auto_rows": null,
            "grid_column": null,
            "grid_gap": null,
            "grid_row": null,
            "grid_template_areas": null,
            "grid_template_columns": null,
            "grid_template_rows": null,
            "height": "80px",
            "justify_content": null,
            "justify_items": null,
            "left": null,
            "margin": null,
            "max_height": null,
            "max_width": null,
            "min_height": null,
            "min_width": null,
            "object_fit": null,
            "object_position": null,
            "order": null,
            "overflow": null,
            "overflow_x": null,
            "overflow_y": null,
            "padding": null,
            "right": null,
            "top": null,
            "visibility": null,
            "width": "95%"
          }
        },
        "9f8a610570c44eacac9f764d34b1ebfa": {
          "model_module": "@jupyter-widgets/controls",
          "model_name": "DescriptionStyleModel",
          "model_module_version": "1.5.0",
          "state": {
            "_model_module": "@jupyter-widgets/controls",
            "_model_module_version": "1.5.0",
            "_model_name": "DescriptionStyleModel",
            "_view_count": null,
            "_view_module": "@jupyter-widgets/base",
            "_view_module_version": "1.2.0",
            "_view_name": "StyleView",
            "description_width": ""
          }
        },
        "4175b0278d3d46d28fbfb8aa998ebfe3": {
          "model_module": "@jupyter-widgets/base",
          "model_name": "LayoutModel",
          "model_module_version": "1.2.0",
          "state": {
            "_model_module": "@jupyter-widgets/base",
            "_model_module_version": "1.2.0",
            "_model_name": "LayoutModel",
            "_view_count": null,
            "_view_module": "@jupyter-widgets/base",
            "_view_module_version": "1.2.0",
            "_view_name": "LayoutView",
            "align_content": null,
            "align_items": null,
            "align_self": null,
            "border": null,
            "bottom": null,
            "display": null,
            "flex": null,
            "flex_flow": null,
            "grid_area": null,
            "grid_auto_columns": null,
            "grid_auto_flow": null,
            "grid_auto_rows": null,
            "grid_column": null,
            "grid_gap": null,
            "grid_row": null,
            "grid_template_areas": null,
            "grid_template_columns": null,
            "grid_template_rows": null,
            "height": null,
            "justify_content": null,
            "justify_items": null,
            "left": null,
            "margin": null,
            "max_height": null,
            "max_width": null,
            "min_height": null,
            "min_width": null,
            "object_fit": null,
            "object_position": null,
            "order": null,
            "overflow": null,
            "overflow_x": null,
            "overflow_y": null,
            "padding": null,
            "right": null,
            "top": null,
            "visibility": null,
            "width": null
          }
        },
        "6367a3f5412e47bcb16e3ced34f562de": {
          "model_module": "@jupyter-widgets/controls",
          "model_name": "ButtonStyleModel",
          "model_module_version": "1.5.0",
          "state": {
            "_model_module": "@jupyter-widgets/controls",
            "_model_module_version": "1.5.0",
            "_model_name": "ButtonStyleModel",
            "_view_count": null,
            "_view_module": "@jupyter-widgets/base",
            "_view_module_version": "1.2.0",
            "_view_name": "StyleView",
            "button_color": null,
            "font_weight": ""
          }
        },
        "6c2a97f90a4041c7a98df24489a2e00b": {
          "model_module": "@jupyter-widgets/base",
          "model_name": "LayoutModel",
          "model_module_version": "1.2.0",
          "state": {
            "_model_module": "@jupyter-widgets/base",
            "_model_module_version": "1.2.0",
            "_model_name": "LayoutModel",
            "_view_count": null,
            "_view_module": "@jupyter-widgets/base",
            "_view_module_version": "1.2.0",
            "_view_name": "LayoutView",
            "align_content": null,
            "align_items": null,
            "align_self": null,
            "border": null,
            "bottom": null,
            "display": null,
            "flex": null,
            "flex_flow": null,
            "grid_area": null,
            "grid_auto_columns": null,
            "grid_auto_flow": null,
            "grid_auto_rows": null,
            "grid_column": null,
            "grid_gap": null,
            "grid_row": null,
            "grid_template_areas": null,
            "grid_template_columns": null,
            "grid_template_rows": null,
            "height": null,
            "justify_content": null,
            "justify_items": null,
            "left": null,
            "margin": null,
            "max_height": null,
            "max_width": null,
            "min_height": null,
            "min_width": null,
            "object_fit": null,
            "object_position": null,
            "order": null,
            "overflow": null,
            "overflow_x": null,
            "overflow_y": null,
            "padding": null,
            "right": null,
            "top": null,
            "visibility": null,
            "width": null
          }
        },
        "f7eb54ef941d4b9e8afd2507fc01f341": {
          "model_module": "@jupyter-widgets/controls",
          "model_name": "DescriptionStyleModel",
          "model_module_version": "1.5.0",
          "state": {
            "_model_module": "@jupyter-widgets/controls",
            "_model_module_version": "1.5.0",
            "_model_name": "DescriptionStyleModel",
            "_view_count": null,
            "_view_module": "@jupyter-widgets/base",
            "_view_module_version": "1.2.0",
            "_view_name": "StyleView",
            "description_width": ""
          }
        },
        "7f60c2eea7b9472799792863ea13ca04": {
          "model_module": "@jupyter-widgets/controls",
          "model_name": "HTMLModel",
          "model_module_version": "1.5.0",
          "state": {
            "_dom_classes": [],
            "_model_module": "@jupyter-widgets/controls",
            "_model_module_version": "1.5.0",
            "_model_name": "HTMLModel",
            "_view_count": null,
            "_view_module": "@jupyter-widgets/controls",
            "_view_module_version": "1.5.0",
            "_view_name": "HTMLView",
            "description": "",
            "description_tooltip": null,
            "layout": "IPY_MODEL_699eec071a924c3aa4e991269a8132a9",
            "placeholder": "​",
            "style": "IPY_MODEL_7568616d9b6b427193f29339391ad61c",
            "value": "<b>Current Reward Population (Code -> Fitness):</b><br/><code>reward = -state['x_pos']**2 + 0.5 * abs(state['y_vel']) + np.random.uniform(-0.1, 0.1) * state['y_pos']**2</code> -> 78<br/><code>reward = -state['x_pos']**2</code> -> 47<br/>"
          }
        },
        "ad22be4f0e0f4335a7937bffb3f8291b": {
          "model_module": "jupyterlab-plotly",
          "model_name": "FigureModel",
          "model_module_version": "^5.24.1",
          "state": {
            "_config": {
              "plotlyServerURL": "https://plot.ly"
            },
            "_data": [],
            "_dom_classes": [],
            "_js2py_layoutDelta": null,
            "_js2py_pointsCallback": {},
            "_js2py_relayout": null,
            "_js2py_restyle": {},
            "_js2py_traceDeltas": null,
            "_js2py_update": {},
            "_last_layout_edit_id": 7,
            "_last_trace_edit_id": 6,
            "_layout": {},
            "_model_module": "jupyterlab-plotly",
            "_model_module_version": "^5.24.1",
            "_model_name": "FigureModel",
            "_py2js_addTraces": {
              "trace_data": [
                {
                  "hoverinfo": "text",
                  "text": [
                    "reward = -state['x_pos']**2 + 0.5 * abs(state['y_vel']) + np.random.uniform(-0.1, 0.1) * state['y_pos']**2",
                    "reward = -state['x_pos']**2"
                  ],
                  "x": [
                    "Cand. 0",
                    "Cand. 1"
                  ],
                  "y": [
                    78,
                    47
                  ],
                  "type": "bar",
                  "uid": "7c17af66-4bc9-4b35-8b91-0ff5976d515a"
                }
              ],
              "trace_edit_id": 5,
              "layout_edit_id": 6
            },
            "_py2js_animate": {},
            "_py2js_deleteTraces": null,
            "_py2js_moveTraces": {},
            "_py2js_relayout": null,
            "_py2js_removeLayoutProps": null,
            "_py2js_removeTraceProps": {},
            "_py2js_restyle": {},
            "_py2js_update": null,
            "_view_count": 1,
            "_view_module": "jupyterlab-plotly",
            "_view_module_version": "^5.24.1",
            "_view_name": "FigureView"
          }
        },
        "22b20a83a3634961af35005281ac55db": {
          "model_module": "@jupyter-widgets/base",
          "model_name": "LayoutModel",
          "model_module_version": "1.2.0",
          "state": {
            "_model_module": "@jupyter-widgets/base",
            "_model_module_version": "1.2.0",
            "_model_name": "LayoutModel",
            "_view_count": null,
            "_view_module": "@jupyter-widgets/base",
            "_view_module_version": "1.2.0",
            "_view_name": "LayoutView",
            "align_content": null,
            "align_items": null,
            "align_self": null,
            "border": null,
            "bottom": null,
            "display": null,
            "flex": null,
            "flex_flow": null,
            "grid_area": null,
            "grid_auto_columns": null,
            "grid_auto_flow": null,
            "grid_auto_rows": null,
            "grid_column": null,
            "grid_gap": null,
            "grid_row": null,
            "grid_template_areas": null,
            "grid_template_columns": null,
            "grid_template_rows": null,
            "height": null,
            "justify_content": null,
            "justify_items": null,
            "left": null,
            "margin": null,
            "max_height": null,
            "max_width": null,
            "min_height": null,
            "min_width": null,
            "object_fit": null,
            "object_position": null,
            "order": null,
            "overflow": null,
            "overflow_x": null,
            "overflow_y": null,
            "padding": null,
            "right": null,
            "top": null,
            "visibility": null,
            "width": null
          }
        },
        "699eec071a924c3aa4e991269a8132a9": {
          "model_module": "@jupyter-widgets/base",
          "model_name": "LayoutModel",
          "model_module_version": "1.2.0",
          "state": {
            "_model_module": "@jupyter-widgets/base",
            "_model_module_version": "1.2.0",
            "_model_name": "LayoutModel",
            "_view_count": null,
            "_view_module": "@jupyter-widgets/base",
            "_view_module_version": "1.2.0",
            "_view_name": "LayoutView",
            "align_content": null,
            "align_items": null,
            "align_self": null,
            "border": null,
            "bottom": null,
            "display": null,
            "flex": null,
            "flex_flow": null,
            "grid_area": null,
            "grid_auto_columns": null,
            "grid_auto_flow": null,
            "grid_auto_rows": null,
            "grid_column": null,
            "grid_gap": null,
            "grid_row": null,
            "grid_template_areas": null,
            "grid_template_columns": null,
            "grid_template_rows": null,
            "height": null,
            "justify_content": null,
            "justify_items": null,
            "left": null,
            "margin": null,
            "max_height": null,
            "max_width": null,
            "min_height": null,
            "min_width": null,
            "object_fit": null,
            "object_position": null,
            "order": null,
            "overflow": null,
            "overflow_x": null,
            "overflow_y": null,
            "padding": null,
            "right": null,
            "top": null,
            "visibility": null,
            "width": null
          }
        },
        "7568616d9b6b427193f29339391ad61c": {
          "model_module": "@jupyter-widgets/controls",
          "model_name": "DescriptionStyleModel",
          "model_module_version": "1.5.0",
          "state": {
            "_model_module": "@jupyter-widgets/controls",
            "_model_module_version": "1.5.0",
            "_model_name": "DescriptionStyleModel",
            "_view_count": null,
            "_view_module": "@jupyter-widgets/base",
            "_view_module_version": "1.2.0",
            "_view_name": "StyleView",
            "description_width": ""
          }
        }
      }
    }
  },
  "nbformat": 4,
  "nbformat_minor": 5
}